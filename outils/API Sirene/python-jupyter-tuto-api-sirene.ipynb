{
 "cells": [
  {
   "cell_type": "markdown",
   "metadata": {
    "collapsed": true
   },
   "source": [
    "# Premières requêtes sur API SIRENE"
   ]
  },
  {
   "cell_type": "markdown",
   "metadata": {},
   "source": [
    "**Ceci est un notebook Jupyter Python** (l'extension .ipynb du fichier est caractéristique).   \n",
    "Cela signifie qu'il peut se lire joliment sous github mais aussi se charger dans Jupyter pour exécution (modification, trifouillage, au choix).   \n",
    "Il suffit de le télécharger (ou de cloner tout le repository pour ceux qui sont un peu git-compatible) et de mettre dans votre instance Jupyter (si vous êtes vraiment de mauvaise humeur, vous pouvez faire afficher 'raw' dans github pour avoir le code source de la page et créer un nouveau notebook en copiant/collant celui-ci dans un fichier vierge)."
   ]
  },
  {
   "cell_type": "markdown",
   "metadata": {},
   "source": [
    "## Utilisation de la librairie requests\n",
    "[La documentation officielle](http://docs.python-requests.org/en/v0.10.6/api/) en anglais, [une version en français](http://fr.python-requests.org/en/latest/user/quickstart.html) et un [tutoriel](http://dridk.me/python-requests.html) également en français. "
   ]
  },
  {
   "cell_type": "code",
   "execution_count": 2,
   "metadata": {},
   "outputs": [],
   "source": [
    "import requests\n",
    "import pandas"
   ]
  },
  {
   "cell_type": "markdown",
   "metadata": {},
   "source": [
    "## Une première requête"
   ]
  },
  {
   "cell_type": "markdown",
   "metadata": {},
   "source": [
    "Construire un requête est simple :\n",
    "* on définit l'URL de la requête (sous forme de chaîne de caractère),"
   ]
  },
  {
   "cell_type": "code",
   "execution_count": 3,
   "metadata": {},
   "outputs": [],
   "source": [
    "url = \"https://prototype.api-sirene.insee.fr/ws/siret/\""
   ]
  },
  {
   "cell_type": "markdown",
   "metadata": {},
   "source": [
    "* si besoin est, on définit les paramètres de la requête (sous forme de dictionnaire),"
   ]
  },
  {
   "cell_type": "code",
   "execution_count": 4,
   "metadata": {},
   "outputs": [],
   "source": [
    "##On a choisit pour l'exemple de s'en prendre aux notaires (oui c'est gratuit, non je n'ai pas envie d'en parler...).\n",
    "q_param_value = 'Denomination:Notaire'\n",
    "requete_params = {'q':q_param_value}"
   ]
  },
  {
   "cell_type": "markdown",
   "metadata": {},
   "source": [
    "* si besoin est, on définit les urls des proxies (sous forme de dictionnaire)"
   ]
  },
  {
   "cell_type": "code",
   "execution_count": 5,
   "metadata": {},
   "outputs": [],
   "source": [
    "insee_proxies = {'http': 'http://proxy-rie.http.insee.fr:8080',\n",
    "              'https': 'http://proxy-rie.http.insee.fr:8080'}"
   ]
  },
  {
   "cell_type": "markdown",
   "metadata": {},
   "source": [
    "* on passe le tout en paramètre de la fonction correspondant au verbe HTTP souhaité (get, post, put, delete... et selon le contexte avec ou sans le param proxies)"
   ]
  },
  {
   "cell_type": "code",
   "execution_count": 7,
   "metadata": {},
   "outputs": [],
   "source": [
    "#Requête dans un contexte sans proxy\n",
    "#requete = requests.get(url, params=requete_params)\n",
    "#Requête avec proxy\n",
    "requete = requests.get(url, params=requete_params, proxies=insee_proxies)"
   ]
  },
  {
   "cell_type": "markdown",
   "metadata": {},
   "source": [
    "On peut vérifier que la requête s'est bien passée soit :\n",
    "* en vérifiant la valeur du code retour qui doit valoir 200"
   ]
  },
  {
   "cell_type": "code",
   "execution_count": 8,
   "metadata": {},
   "outputs": [],
   "source": [
    "assert requete.status_code == 200, \"Erreur lors de la requête\""
   ]
  },
  {
   "cell_type": "markdown",
   "metadata": {},
   "source": [
    "* ou en utilisant une fonction ad-hoc"
   ]
  },
  {
   "cell_type": "code",
   "execution_count": 9,
   "metadata": {},
   "outputs": [],
   "source": [
    "requete.raise_for_status()\n",
    "##Aucun retour si la requête a renvoyé 200"
   ]
  },
  {
   "cell_type": "markdown",
   "metadata": {},
   "source": [
    "## Accéder au contenu de la requête"
   ]
  },
  {
   "cell_type": "markdown",
   "metadata": {},
   "source": [
    "API SIRENE renvoie du JSON (oui, il y a tout le JSON, mais ainsi vous l'aurez déjà vu une fois)."
   ]
  },
  {
   "cell_type": "code",
   "execution_count": 10,
   "metadata": {},
   "outputs": [
    {
     "data": {
      "text/plain": [
       "'{\"Header\":{\"Statut\":200,\"Message\":\"ok\",\"Total\":831,\"Debut\":0,\"Nombre\":20},\"Etablissements\":[{\"Siren\":\"792798415\",\"Nic\":\"00016\",\"StatutDiffusionEtablissement\":\"O\",\"DateCreationEtablissement\":\"2013-04-01\",\"NombrePeriodes\":1,\"UniteLegale\":{\"StatutDiffusionUniteLegale\":\"O\",\"DateCreationUniteLegale\":\"2013-04-01\",\"Sigle\":null,\"Sexe\":null,\"NomUsage\":null,\"Prenom1\":null,\"Prenom2\":null,\"Prenom3\":null,\"Prenom4\":null,\"PrenomUsuel\":null,\"CaractereEmployeur\":\"N\",\"EtatAdministratif\":\"A\",\"Nom\":null,\"Denomination\":\"NOTAIRE\",\"ActivitePrincipale\":\"01.11Z\",\"LibelleActivite\":\"Culture de céréales (à l\\'exception du riz), de légumineuses et de graines oléagineuses\",\"NomenclatureActivite\":\"NAFRev2\",\"CategorieJuridique\":\"6597\",\"CategorieProfessionnelle\":null,\"NICSiege\":\"00016\"},\"Adresse\":{\"ComplementAdresseEtablissement\":null,\"NumeroVoieEtablissement\":\"2\",\"IndiceRepetitionEtablissement\":null,\"TypeVoieEtablissement\":\"CHE\",\"LibelleVoieEtablissement\":\"DE L ORME\",\"CodePostalEtablissement\":\"51350\",\"LibelleCommuneEtablissement\":\"CORMONTREUIL\",\"LibelleCommuneEtrangerEtablissement\":null,\"DistributionSpecialeEtablissement\":null,\"CodeCommuneEtablissement\":\"51172\",\"CedexEtablissement\":null},\"Periodes\":[{\"DateFin\":null,\"DateDebut\":\"2013-04-01\",\"EtatAdministratifEtablissement\":\"A\",\"IndEtatAdministratifEtablissement\":true,\"ActivitePrincipaleEtablissement\":\"01.11Z\",\"LibelleActiviteEtablissement\":\"Culture de céréales (à l\\'exception du riz), de légumineuses et de graines oléagineuses\",\"NomenclatureActiviteEtablissement\":\"NAFRev2\",\"IndActivitePrincipaleEtablissement\":true,\"CaractereEmployeurEtablissement\":\"N\",\"IndCaractereEmployeurEtablissement\":true,\"Enseigne1\":null,\"Enseigne2\":null,\"Enseigne3\":null,\"IndEnseigneEtablissement\":true}]},{\"Siren\":\"825168578\",\"Nic\":\"00011\",\"StatutDiffusionEtablissement\":\"O\",\"DateCreationEtablissement\":\"2017-03-01\",\"NombrePeriodes\":1,\"UniteLegale\":{\"StatutDiffusionUniteLegale\":\"O\",\"DateCreationUniteLegale\":\"2017-03-01\",\"Sigle\":null,\"Sexe\":null,\"NomUsage\":null,\"Prenom1\":null,\"Prenom2\":null,\"Prenom3\":null,\"Prenom4\":null,\"PrenomUsuel\":null,\"CaractereEmployeur\":\"N\",\"EtatAdministratif\":\"A\",\"Nom\":null,\"Denomination\":\"ACTUEL NOTAIRE\",\"ActivitePrincipale\":\"68.20B\",\"LibelleActivite\":\"Location de terrains et d\\'autres biens immobiliers\",\"NomenclatureActivite\":\"NAFRev2\",\"CategorieJuridique\":\"6540\",\"CategorieProfessionnelle\":null,\"NICSiege\":\"00011\"},\"Adresse\":{\"ComplementAdresseEtablissement\":null,\"NumeroVoieEtablissement\":\"6\",\"IndiceRepetitionEtablissement\":null,\"TypeVoieEtablissement\":\"RUE\",\"LibelleVoieEtablissement\":\"JOSEPH VERNET\",\"CodePostalEtablissement\":\"84000\",\"LibelleCommuneEtablissement\":\"AVIGNON\",\"LibelleCommuneEtrangerEtablissement\":null,\"DistributionSpecialeEtablissement\":null,\"CodeCommuneEtablissement\":\"84007\",\"CedexEtablissement\":null},\"Periodes\":[{\"DateFin\":null,\"DateDebut\":\"2017-03-01\",\"EtatAdministratifEtablissement\":\"A\",\"IndEtatAdministratifEtablissement\":true,\"ActivitePrincipaleEtablissement\":\"68.20B\",\"LibelleActiviteEtablissement\":\"Location de terrains et d\\'autres biens immobiliers\",\"NomenclatureActiviteEtablissement\":\"NAFRev2\",\"IndActivitePrincipaleEtablissement\":true,\"CaractereEmployeurEtablissement\":\"N\",\"IndCaractereEmployeurEtablissement\":true,\"Enseigne1\":null,\"Enseigne2\":null,\"Enseigne3\":null,\"IndEnseigneEtablissement\":true}]},{\"Siren\":\"479385775\",\"Nic\":\"00016\",\"StatutDiffusionEtablissement\":\"O\",\"DateCreationEtablissement\":\"2004-10-22\",\"NombrePeriodes\":3,\"UniteLegale\":{\"StatutDiffusionUniteLegale\":\"O\",\"DateCreationUniteLegale\":\"2004-10-22\",\"Sigle\":null,\"Sexe\":null,\"NomUsage\":null,\"Prenom1\":null,\"Prenom2\":null,\"Prenom3\":null,\"Prenom4\":null,\"PrenomUsuel\":null,\"CaractereEmployeur\":\"N\",\"EtatAdministratif\":\"C\",\"Nom\":null,\"Denomination\":\"NOTAIRE +\",\"ActivitePrincipale\":\"74.1A\",\"LibelleActivite\":\"Activités juridiques\",\"NomenclatureActivite\":\"NAFRev1\",\"CategorieJuridique\":\"5485\",\"CategorieProfessionnelle\":null,\"NICSiege\":\"00016\"},\"Adresse\":{\"ComplementAdresseEtablissement\":null,\"NumeroVoieEtablissement\":\"89\",\"IndiceRepetitionEtablissement\":null,\"TypeVoieEtablissement\":\"AV\",\"LibelleVoieEtablissement\":\"DE NICE\",\"CodePostalEtablissement\":\"06800\",\"LibelleCommuneEtablissement\":\"CROS DE CAGNES\",\"LibelleCommuneEtrangerEtablissement\":null,\"DistributionSpecialeEtablissement\":null,\"CodeCommuneEtablissement\":\"06027\",\"CedexEtablissement\":null},\"Periodes\":[{\"DateFin\":null,\"DateDebut\":\"2007-09-13\",\"EtatAdministratifEtablissement\":\"F\",\"IndEtatAdministratifEtablissement\":true,\"ActivitePrincipaleEtablissement\":\"74.1A\",\"LibelleActiviteEtablissement\":\"Activités juridiques\",\"NomenclatureActiviteEtablissement\":\"NAFRev1\",\"IndActivitePrincipaleEtablissement\":false,\"CaractereEmployeurEtablissement\":\"N\",\"IndCaractereEmployeurEtablissement\":false,\"Enseigne1\":null,\"Enseigne2\":null,\"Enseigne3\":null,\"IndEnseigneEtablissement\":false},{\"DateFin\":\"2007-09-12\",\"DateDebut\":\"2004-12-25\",\"EtatAdministratifEtablissement\":\"A\",\"IndEtatAdministratifEtablissement\":false,\"ActivitePrincipaleEtablissement\":\"74.1A\",\"LibelleActiviteEtablissement\":\"Activités juridiques\",\"NomenclatureActiviteEtablissement\":\"NAFRev1\",\"IndActivitePrincipaleEtablissement\":true,\"CaractereEmployeurEtablissement\":\"N\",\"IndCaractereEmployeurEtablissement\":false,\"Enseigne1\":null,\"Enseigne2\":null,\"Enseigne3\":null,\"IndEnseigneEtablissement\":false},{\"DateFin\":\"2004-12-24\",\"DateDebut\":\"2004-10-22\",\"EtatAdministratifEtablissement\":\"A\",\"IndEtatAdministratifEtablissement\":true,\"ActivitePrincipaleEtablissement\":null,\"LibelleActiviteEtablissement\":null,\"NomenclatureActiviteEtablissement\":null,\"IndActivitePrincipaleEtablissement\":true,\"CaractereEmployeurEtablissement\":\"N\",\"IndCaractereEmployeurEtablissement\":true,\"Enseigne1\":null,\"Enseigne2\":null,\"Enseigne3\":null,\"IndEnseigneEtablissement\":true}]},{\"Siren\":\"794451005\",\"Nic\":\"00019\",\"StatutDiffusionEtablissement\":\"O\",\"DateCreationEtablissement\":\"2013-07-11\",\"NombrePeriodes\":1,\"UniteLegale\":{\"StatutDiffusionUniteLegale\":\"O\",\"DateCreationUniteLegale\":\"2013-07-11\",\"Sigle\":null,\"Sexe\":null,\"NomUsage\":null,\"Prenom1\":null,\"Prenom2\":null,\"Prenom3\":null,\"Prenom4\":null,\"PrenomUsuel\":null,\"CaractereEmployeur\":\"O\",\"EtatAdministratif\":\"A\",\"Nom\":null,\"Denomination\":\"ROUGER NOTAIRE\",\"ActivitePrincipale\":\"69.10Z\",\"LibelleActivite\":\"Activités juridiques\",\"NomenclatureActivite\":\"NAFRev2\",\"CategorieJuridique\":\"5785\",\"CategorieProfessionnelle\":null,\"NICSiege\":\"00019\"},\"Adresse\":{\"ComplementAdresseEtablissement\":null,\"NumeroVoieEtablissement\":\"1\",\"IndiceRepetitionEtablissement\":null,\"TypeVoieEtablissement\":\"BD\",\"LibelleVoieEtablissement\":\"JACQUES AMYOT\",\"CodePostalEtablissement\":\"93410\",\"LibelleCommuneEtablissement\":\"VAUJOURS\",\"LibelleCommuneEtrangerEtablissement\":null,\"DistributionSpecialeEtablissement\":null,\"CodeCommuneEtablissement\":\"93074\",\"CedexEtablissement\":null},\"Periodes\":[{\"DateFin\":null,\"DateDebut\":\"2013-07-11\",\"EtatAdministratifEtablissement\":\"A\",\"IndEtatAdministratifEtablissement\":true,\"ActivitePrincipaleEtablissement\":\"69.10Z\",\"LibelleActiviteEtablissement\":\"Activités juridiques\",\"NomenclatureActiviteEtablissement\":\"NAFRev2\",\"IndActivitePrincipaleEtablissement\":true,\"CaractereEmployeurEtablissement\":\"O\",\"IndCaractereEmployeurEtablissement\":true,\"Enseigne1\":null,\"Enseigne2\":null,\"Enseigne3\":null,\"IndEnseigneEtablissement\":true}]},{\"Siren\":\"829346550\",\"Nic\":\"00017\",\"StatutDiffusionEtablissement\":\"O\",\"DateCreationEtablissement\":\"2017-05-11\",\"NombrePeriodes\":1,\"UniteLegale\":{\"StatutDiffusionUniteLegale\":\"O\",\"DateCreationUniteLegale\":\"2017-05-11\",\"Sigle\":null,\"Sexe\":null,\"NomUsage\":null,\"Prenom1\":null,\"Prenom2\":null,\"Prenom3\":null,\"Prenom4\":null,\"PrenomUsuel\":null,\"CaractereEmployeur\":\"N\",\"EtatAdministratif\":\"A\",\"Nom\":null,\"Denomination\":\"LEONARD NOTAIRE\",\"ActivitePrincipale\":\"69.10Z\",\"LibelleActivite\":\"Activités juridiques\",\"NomenclatureActivite\":\"NAFRev2\",\"CategorieJuridique\":\"5485\",\"CategorieProfessionnelle\":null,\"NICSiege\":\"00017\"},\"Adresse\":{\"ComplementAdresseEtablissement\":\"ROUTE DE PERIERS\",\"NumeroVoieEtablissement\":\"42\",\"IndiceRepetitionEtablissement\":null,\"TypeVoieEtablissement\":null,\"LibelleVoieEtablissement\":\"ESPACE FINEL\",\"CodePostalEtablissement\":\"50430\",\"LibelleCommuneEtablissement\":\"LESSAY\",\"LibelleCommuneEtrangerEtablissement\":null,\"DistributionSpecialeEtablissement\":null,\"CodeCommuneEtablissement\":\"50267\",\"CedexEtablissement\":null},\"Periodes\":[{\"DateFin\":null,\"DateDebut\":\"2017-05-11\",\"EtatAdministratifEtablissement\":\"A\",\"IndEtatAdministratifEtablissement\":true,\"ActivitePrincipaleEtablissement\":\"69.10Z\",\"LibelleActiviteEtablissement\":\"Activités juridiques\",\"NomenclatureActiviteEtablissement\":\"NAFRev2\",\"IndActivitePrincipaleEtablissement\":true,\"CaractereEmployeurEtablissement\":\"N\",\"IndCaractereEmployeurEtablissement\":true,\"Enseigne1\":null,\"Enseigne2\":null,\"Enseigne3\":null,\"IndEnseigneEtablissement\":true}]},{\"Siren\":\"514910496\",\"Nic\":\"00017\",\"StatutDiffusionEtablissement\":\"O\",\"DateCreationEtablissement\":\"2009-08-21\",\"NombrePeriodes\":1,\"UniteLegale\":{\"StatutDiffusionUniteLegale\":\"O\",\"DateCreationUniteLegale\":\"2009-08-21\",\"Sigle\":null,\"Sexe\":null,\"NomUsage\":null,\"Prenom1\":null,\"Prenom2\":null,\"Prenom3\":null,\"Prenom4\":null,\"PrenomUsuel\":null,\"CaractereEmployeur\":\"N\",\"EtatAdministratif\":\"A\",\"Nom\":null,\"Denomination\":\"NOTAIRE CONSEIL\",\"ActivitePrincipale\":\"94.12Z\",\"LibelleActivite\":\"Activités des organisations professionnelles\",\"NomenclatureActivite\":\"NAFRev2\",\"CategorieJuridique\":\"9220\",\"CategorieProfessionnelle\":null,\"NICSiege\":\"00017\"},\"Adresse\":{\"ComplementAdresseEtablissement\":null,\"NumeroVoieEtablissement\":\"211\",\"IndiceRepetitionEtablissement\":\"B\",\"TypeVoieEtablissement\":\"RUE\",\"LibelleVoieEtablissement\":\"DE BERCY\",\"CodePostalEtablissement\":\"75012\",\"LibelleCommuneEtablissement\":\"PARIS\",\"LibelleCommuneEtrangerEtablissement\":null,\"DistributionSpecialeEtablissement\":null,\"CodeCommuneEtablissement\":\"75112\",\"CedexEtablissement\":null},\"Periodes\":[{\"DateFin\":null,\"DateDebut\":\"2009-08-21\",\"EtatAdministratifEtablissement\":\"A\",\"IndEtatAdministratifEtablissement\":true,\"ActivitePrincipaleEtablissement\":\"94.12Z\",\"LibelleActiviteEtablissement\":\"Activités des organisations professionnelles\",\"NomenclatureActiviteEtablissement\":\"NAFRev2\",\"IndActivitePrincipaleEtablissement\":true,\"CaractereEmployeurEtablissement\":\"N\",\"IndCaractereEmployeurEtablissement\":true,\"Enseigne1\":null,\"Enseigne2\":null,\"Enseigne3\":null,\"IndEnseigneEtablissement\":true}]},{\"Siren\":\"333427425\",\"Nic\":\"00017\",\"StatutDiffusionEtablissement\":\"O\",\"DateCreationEtablissement\":null,\"NombrePeriodes\":1,\"UniteLegale\":{\"StatutDiffusionUniteLegale\":\"O\",\"DateCreationUniteLegale\":\"1985-05-02\",\"Sigle\":null,\"Sexe\":null,\"NomUsage\":null,\"Prenom1\":null,\"Prenom2\":null,\"Prenom3\":null,\"Prenom4\":null,\"PrenomUsuel\":null,\"CaractereEmployeur\":\"N\",\"UnitePurgee\":true,\"EtatAdministratif\":\"C\",\"Nom\":null,\"Denomination\":\"STAFF NOTAIRE\",\"ActivitePrincipale\":\"77.15\",\"LibelleActivite\":\"Ordres et syndicats professionnels\",\"NomenclatureActivite\":\"NAP\",\"CategorieJuridique\":\"9220\",\"CategorieProfessionnelle\":null,\"NICSiege\":\"00017\"},\"Adresse\":{\"ComplementAdresseEtablissement\":null,\"NumeroVoieEtablissement\":\"40\",\"IndiceRepetitionEtablissement\":null,\"TypeVoieEtablissement\":\"RUE\",\"LibelleVoieEtablissement\":\"PAUL BERT\",\"CodePostalEtablissement\":\"35000\",\"LibelleCommuneEtablissement\":\"RENNES\",\"LibelleCommuneEtrangerEtablissement\":null,\"DistributionSpecialeEtablissement\":null,\"CodeCommuneEtablissement\":\"35238\",\"CedexEtablissement\":null},\"Periodes\":[{\"DateFin\":null,\"DateDebut\":\"1986-03-01\",\"EtatAdministratifEtablissement\":\"F\",\"IndEtatAdministratifEtablissement\":true,\"ActivitePrincipaleEtablissement\":\"77.15\",\"LibelleActiviteEtablissement\":\"Ordres et syndicats professionnels\",\"NomenclatureActiviteEtablissement\":\"NAP\",\"IndActivitePrincipaleEtablissement\":false,\"CaractereEmployeurEtablissement\":\"N\",\"IndCaractereEmployeurEtablissement\":false,\"Enseigne1\":null,\"Enseigne2\":null,\"Enseigne3\":null,\"IndEnseigneEtablissement\":false}]},{\"Siren\":\"829321033\",\"Nic\":\"00013\",\"StatutDiffusionEtablissement\":\"O\",\"DateCreationEtablissement\":\"2017-04-28\",\"NombrePeriodes\":1,\"UniteLegale\":{\"StatutDiffusionUniteLegale\":\"O\",\"DateCreationUniteLegale\":\"2017-04-28\",\"Sigle\":null,\"Sexe\":null,\"NomUsage\":null,\"Prenom1\":null,\"Prenom2\":null,\"Prenom3\":null,\"Prenom4\":null,\"PrenomUsuel\":null,\"CaractereEmployeur\":\"N\",\"EtatAdministratif\":\"A\",\"Nom\":null,\"Denomination\":\"AG NOTAIRE\",\"ActivitePrincipale\":\"64.20Z\",\"LibelleActivite\":\"Activités des sociétés holding\",\"NomenclatureActivite\":\"NAFRev2\",\"CategorieJuridique\":\"5470\",\"CategorieProfessionnelle\":null,\"NICSiege\":\"00013\"},\"Adresse\":{\"ComplementAdresseEtablissement\":null,\"NumeroVoieEtablissement\":\"74\",\"IndiceRepetitionEtablissement\":null,\"TypeVoieEtablissement\":\"AV\",\"LibelleVoieEtablissement\":\"DES PINS\",\"CodePostalEtablissement\":\"50230\",\"LibelleCommuneEtablissement\":\"AGON COUTAINVILLE\",\"LibelleCommuneEtrangerEtablissement\":null,\"DistributionSpecialeEtablissement\":null,\"CodeCommuneEtablissement\":\"50003\",\"CedexEtablissement\":null},\"Periodes\":[{\"DateFin\":null,\"DateDebut\":\"2017-04-28\",\"EtatAdministratifEtablissement\":\"A\",\"IndEtatAdministratifEtablissement\":true,\"ActivitePrincipaleEtablissement\":\"64.20Z\",\"LibelleActiviteEtablissement\":\"Activités des sociétés holding\",\"NomenclatureActiviteEtablissement\":\"NAFRev2\",\"IndActivitePrincipaleEtablissement\":true,\"CaractereEmployeurEtablissement\":\"N\",\"IndCaractereEmployeurEtablissement\":true,\"Enseigne1\":null,\"Enseigne2\":null,\"Enseigne3\":null,\"IndEnseigneEtablissement\":true}]},{\"Siren\":\"339235079\",\"Nic\":\"00011\",\"StatutDiffusionEtablissement\":\"O\",\"DateCreationEtablissement\":\"1986-08-12\",\"NombrePeriodes\":4,\"UniteLegale\":{\"StatutDiffusionUniteLegale\":\"O\",\"DateCreationUniteLegale\":\"1986-08-12\",\"Sigle\":null,\"Sexe\":null,\"NomUsage\":null,\"Prenom1\":null,\"Prenom2\":null,\"Prenom3\":null,\"Prenom4\":null,\"PrenomUsuel\":null,\"CaractereEmployeur\":\"O\",\"EtatAdministratif\":\"A\",\"Nom\":null,\"Denomination\":\"PATRICK BRUN NOTAIRE ASSOCIE\",\"ActivitePrincipale\":\"69.10Z\",\"LibelleActivite\":\"Activités juridiques\",\"NomenclatureActivite\":\"NAFRev2\",\"CategorieJuridique\":\"6565\",\"CategorieProfessionnelle\":null,\"NICSiege\":\"00011\"},\"Adresse\":{\"ComplementAdresseEtablissement\":null,\"NumeroVoieEtablissement\":\"81\",\"IndiceRepetitionEtablissement\":null,\"TypeVoieEtablissement\":\"RUE\",\"LibelleVoieEtablissement\":\"DU GENERAL DE GAULLE\",\"CodePostalEtablissement\":\"76450\",\"LibelleCommuneEtablissement\":\"CANY BARVILLE\",\"LibelleCommuneEtrangerEtablissement\":null,\"DistributionSpecialeEtablissement\":null,\"CodeCommuneEtablissement\":\"76159\",\"CedexEtablissement\":null},\"Periodes\":[{\"DateFin\":null,\"DateDebut\":\"2008-01-01\",\"EtatAdministratifEtablissement\":\"A\",\"IndEtatAdministratifEtablissement\":false,\"ActivitePrincipaleEtablissement\":\"69.10Z\",\"LibelleActiviteEtablissement\":\"Activités juridiques\",\"NomenclatureActiviteEtablissement\":\"NAFRev2\",\"IndActivitePrincipaleEtablissement\":true,\"CaractereEmployeurEtablissement\":\"O\",\"IndCaractereEmployeurEtablissement\":false,\"Enseigne1\":null,\"Enseigne2\":null,\"Enseigne3\":null,\"IndEnseigneEtablissement\":false},{\"DateFin\":\"2007-12-31\",\"DateDebut\":\"1996-12-25\",\"EtatAdministratifEtablissement\":\"A\",\"IndEtatAdministratifEtablissement\":false,\"ActivitePrincipaleEtablissement\":\"74.1A\",\"LibelleActiviteEtablissement\":\"Activités juridiques\",\"NomenclatureActiviteEtablissement\":\"NAF1993\",\"IndActivitePrincipaleEtablissement\":false,\"CaractereEmployeurEtablissement\":\"O\",\"IndCaractereEmployeurEtablissement\":true,\"Enseigne1\":null,\"Enseigne2\":null,\"Enseigne3\":null,\"IndEnseigneEtablissement\":false},{\"DateFin\":\"1996-12-24\",\"DateDebut\":\"1986-12-25\",\"EtatAdministratifEtablissement\":\"A\",\"IndEtatAdministratifEtablissement\":false,\"ActivitePrincipaleEtablissement\":\"74.1A\",\"LibelleActiviteEtablissement\":\"Activités juridiques\",\"NomenclatureActiviteEtablissement\":\"NAF1993\",\"IndActivitePrincipaleEtablissement\":true,\"CaractereEmployeurEtablissement\":null,\"IndCaractereEmployeurEtablissement\":false,\"Enseigne1\":null,\"Enseigne2\":null,\"Enseigne3\":null,\"IndEnseigneEtablissement\":false},{\"DateFin\":\"1986-12-24\",\"DateDebut\":\"1986-08-12\",\"EtatAdministratifEtablissement\":\"A\",\"IndEtatAdministratifEtablissement\":true,\"ActivitePrincipaleEtablissement\":null,\"LibelleActiviteEtablissement\":null,\"NomenclatureActiviteEtablissement\":null,\"IndActivitePrincipaleEtablissement\":true,\"CaractereEmployeurEtablissement\":null,\"IndCaractereEmployeurEtablissement\":true,\"Enseigne1\":null,\"Enseigne2\":null,\"Enseigne3\":null,\"IndEnseigneEtablissement\":true}]},{\"Siren\":\"342251857\",\"Nic\":\"00013\",\"StatutDiffusionEtablissement\":\"O\",\"DateCreationEtablissement\":\"1987-09-09\",\"NombrePeriodes\":4,\"UniteLegale\":{\"StatutDiffusionUniteLegale\":\"O\",\"DateCreationUniteLegale\":\"1987-09-09\",\"Sigle\":null,\"Sexe\":null,\"NomUsage\":null,\"Prenom1\":null,\"Prenom2\":null,\"Prenom3\":null,\"Prenom4\":null,\"PrenomUsuel\":null,\"CaractereEmployeur\":\"O\",\"EtatAdministratif\":\"C\",\"Nom\":null,\"Denomination\":\"DOMINIQUE DESMARQUEST NOTAIRE ASSOCIE\",\"ActivitePrincipale\":\"69.10Z\",\"LibelleActivite\":\"Activités juridiques\",\"NomenclatureActivite\":\"NAFRev2\",\"CategorieJuridique\":\"6565\",\"CategorieProfessionnelle\":null,\"NICSiege\":\"00021\"},\"Adresse\":{\"ComplementAdresseEtablissement\":null,\"NumeroVoieEtablissement\":\"16\",\"IndiceRepetitionEtablissement\":null,\"TypeVoieEtablissement\":\"PL\",\"LibelleVoieEtablissement\":\"EUGENE ANDRIEU\",\"CodePostalEtablissement\":\"80600\",\"LibelleCommuneEtablissement\":\"DOULLENS\",\"LibelleCommuneEtrangerEtablissement\":null,\"DistributionSpecialeEtablissement\":null,\"CodeCommuneEtablissement\":\"80253\",\"CedexEtablissement\":null},\"Periodes\":[{\"DateFin\":null,\"DateDebut\":\"1992-12-25\",\"EtatAdministratifEtablissement\":\"F\",\"IndEtatAdministratifEtablissement\":false,\"ActivitePrincipaleEtablissement\":\"74.1A\",\"LibelleActiviteEtablissement\":\"Activités juridiques\",\"NomenclatureActiviteEtablissement\":\"NAF1993\",\"IndActivitePrincipaleEtablissement\":false,\"CaractereEmployeurEtablissement\":\"N\",\"IndCaractereEmployeurEtablissement\":true,\"Enseigne1\":null,\"Enseigne2\":null,\"Enseigne3\":null,\"IndEnseigneEtablissement\":false},{\"DateFin\":\"1992-12-24\",\"DateDebut\":\"1992-07-01\",\"EtatAdministratifEtablissement\":\"F\",\"IndEtatAdministratifEtablissement\":true,\"ActivitePrincipaleEtablissement\":\"74.1A\",\"LibelleActiviteEtablissement\":\"Activités juridiques\",\"NomenclatureActiviteEtablissement\":\"NAF1993\",\"IndActivitePrincipaleEtablissement\":false,\"CaractereEmployeurEtablissement\":null,\"IndCaractereEmployeurEtablissement\":false,\"Enseigne1\":null,\"Enseigne2\":null,\"Enseigne3\":null,\"IndEnseigneEtablissement\":false},{\"DateFin\":\"1992-06-30\",\"DateDebut\":\"1987-12-25\",\"EtatAdministratifEtablissement\":\"A\",\"IndEtatAdministratifEtablissement\":false,\"ActivitePrincipaleEtablissement\":\"74.1A\",\"LibelleActiviteEtablissement\":\"Activités juridiques\",\"NomenclatureActiviteEtablissement\":\"NAF1993\",\"IndActivitePrincipaleEtablissement\":true,\"CaractereEmployeurEtablissement\":null,\"IndCaractereEmployeurEtablissement\":false,\"Enseigne1\":null,\"Enseigne2\":null,\"Enseigne3\":null,\"IndEnseigneEtablissement\":false},{\"DateFin\":\"1987-12-24\",\"DateDebut\":\"1987-09-09\",\"EtatAdministratifEtablissement\":\"A\",\"IndEtatAdministratifEtablissement\":true,\"ActivitePrincipaleEtablissement\":null,\"LibelleActiviteEtablissement\":null,\"NomenclatureActiviteEtablissement\":null,\"IndActivitePrincipaleEtablissement\":true,\"CaractereEmployeurEtablissement\":null,\"IndCaractereEmployeurEtablissement\":true,\"Enseigne1\":null,\"Enseigne2\":null,\"Enseigne3\":null,\"IndEnseigneEtablissement\":true}]},{\"Siren\":\"350150504\",\"Nic\":\"00024\",\"StatutDiffusionEtablissement\":\"O\",\"DateCreationEtablissement\":\"2006-05-01\",\"NombrePeriodes\":1,\"UniteLegale\":{\"StatutDiffusionUniteLegale\":\"O\",\"DateCreationUniteLegale\":\"1989-02-22\",\"Sigle\":null,\"Sexe\":null,\"NomUsage\":null,\"Prenom1\":null,\"Prenom2\":null,\"Prenom3\":null,\"Prenom4\":null,\"PrenomUsuel\":null,\"CaractereEmployeur\":\"O\",\"EtatAdministratif\":\"C\",\"Nom\":null,\"Denomination\":\"SCP ROBERT BOUSSIE NOTAIRE\",\"ActivitePrincipale\":\"69.10Z\",\"LibelleActivite\":\"Activités juridiques\",\"NomenclatureActivite\":\"NAFRev2\",\"CategorieJuridique\":\"6565\",\"CategorieProfessionnelle\":null,\"NICSiege\":\"00032\"},\"Adresse\":{\"ComplementAdresseEtablissement\":null,\"NumeroVoieEtablissement\":\"18\",\"IndiceRepetitionEtablissement\":null,\"TypeVoieEtablissement\":\"RUE\",\"LibelleVoieEtablissement\":\"CHEVALIER TOILE\",\"CodePostalEtablissement\":\"82400\",\"LibelleCommuneEtablissement\":\"VALENCE\",\"LibelleCommuneEtrangerEtablissement\":null,\"DistributionSpecialeEtablissement\":null,\"CodeCommuneEtablissement\":\"82186\",\"CedexEtablissement\":null},\"Periodes\":[{\"DateFin\":null,\"DateDebut\":\"2006-05-01\",\"EtatAdministratifEtablissement\":\"F\",\"IndEtatAdministratifEtablissement\":true,\"ActivitePrincipaleEtablissement\":\"74.1A\",\"LibelleActiviteEtablissement\":\"Activités juridiques\",\"NomenclatureActiviteEtablissement\":\"NAFRev1\",\"IndActivitePrincipaleEtablissement\":true,\"CaractereEmployeurEtablissement\":\"O\",\"IndCaractereEmployeurEtablissement\":true,\"Enseigne1\":null,\"Enseigne2\":null,\"Enseigne3\":null,\"IndEnseigneEtablissement\":true}]},{\"Siren\":\"349672550\",\"Nic\":\"00036\",\"StatutDiffusionEtablissement\":\"O\",\"DateCreationEtablissement\":null,\"NombrePeriodes\":1,\"UniteLegale\":{\"StatutDiffusionUniteLegale\":\"O\",\"DateCreationUniteLegale\":\"1989-02-09\",\"Sigle\":null,\"Sexe\":null,\"NomUsage\":null,\"Prenom1\":null,\"Prenom2\":null,\"Prenom3\":null,\"Prenom4\":null,\"PrenomUsuel\":null,\"CaractereEmployeur\":\"N\",\"UnitePurgee\":true,\"EtatAdministratif\":\"C\",\"Nom\":null,\"Denomination\":\"JACQUES LEBOUC NOTAIRE ASSOCIE\",\"ActivitePrincipale\":\"74.1A\",\"LibelleActivite\":\"Activités juridiques\",\"NomenclatureActivite\":\"NAFRev1\",\"CategorieJuridique\":\"6565\",\"CategorieProfessionnelle\":null,\"NICSiege\":\"00036\"},\"Adresse\":{\"ComplementAdresseEtablissement\":null,\"NumeroVoieEtablissement\":\"22\",\"IndiceRepetitionEtablissement\":null,\"TypeVoieEtablissement\":\"RUE\",\"LibelleVoieEtablissement\":\"BRETON\",\"CodePostalEtablissement\":\"61800\",\"LibelleCommuneEtablissement\":\"TINCHEBRAY-BOCAGE\",\"LibelleCommuneEtrangerEtablissement\":null,\"DistributionSpecialeEtablissement\":null,\"CodeCommuneEtablissement\":\"61486\",\"CedexEtablissement\":null},\"Periodes\":[{\"DateFin\":null,\"DateDebut\":\"1993-09-19\",\"EtatAdministratifEtablissement\":\"F\",\"IndEtatAdministratifEtablissement\":true,\"ActivitePrincipaleEtablissement\":\"74.1A\",\"LibelleActiviteEtablissement\":\"Activités juridiques\",\"NomenclatureActiviteEtablissement\":\"NAF1993\",\"IndActivitePrincipaleEtablissement\":false,\"CaractereEmployeurEtablissement\":\"N\",\"IndCaractereEmployeurEtablissement\":false,\"Enseigne1\":null,\"Enseigne2\":null,\"Enseigne3\":null,\"IndEnseigneEtablissement\":false}]},{\"Siren\":\"351149315\",\"Nic\":\"00027\",\"StatutDiffusionEtablissement\":\"O\",\"DateCreationEtablissement\":\"1998-01-20\",\"NombrePeriodes\":3,\"UniteLegale\":{\"StatutDiffusionUniteLegale\":\"O\",\"DateCreationUniteLegale\":\"1989-06-14\",\"Sigle\":null,\"Sexe\":null,\"NomUsage\":null,\"Prenom1\":null,\"Prenom2\":null,\"Prenom3\":null,\"Prenom4\":null,\"PrenomUsuel\":null,\"CaractereEmployeur\":\"O\",\"EtatAdministratif\":\"A\",\"Nom\":null,\"Denomination\":\"LAURENCE BRIDAY-LELONG, NOTAIRE\",\"ActivitePrincipale\":\"69.10Z\",\"LibelleActivite\":\"Activités juridiques\",\"NomenclatureActivite\":\"NAFRev2\",\"CategorieJuridique\":\"6565\",\"CategorieProfessionnelle\":null,\"NICSiege\":\"00035\"},\"Adresse\":{\"ComplementAdresseEtablissement\":\"3-5\",\"NumeroVoieEtablissement\":\"3\",\"IndiceRepetitionEtablissement\":null,\"TypeVoieEtablissement\":\"BD\",\"LibelleVoieEtablissement\":\"DE VERDUN\",\"CodePostalEtablissement\":\"45000\",\"LibelleCommuneEtablissement\":\"ORLEANS\",\"LibelleCommuneEtrangerEtablissement\":null,\"DistributionSpecialeEtablissement\":null,\"CodeCommuneEtablissement\":\"45234\",\"CedexEtablissement\":null},\"Periodes\":[{\"DateFin\":null,\"DateDebut\":\"2004-05-15\",\"EtatAdministratifEtablissement\":\"F\",\"IndEtatAdministratifEtablissement\":true,\"ActivitePrincipaleEtablissement\":\"74.1A\",\"LibelleActiviteEtablissement\":\"Activités juridiques\",\"NomenclatureActiviteEtablissement\":\"NAFRev1\",\"IndActivitePrincipaleEtablissement\":false,\"CaractereEmployeurEtablissement\":\"O\",\"IndCaractereEmployeurEtablissement\":false,\"Enseigne1\":null,\"Enseigne2\":null,\"Enseigne3\":null,\"IndEnseigneEtablissement\":false},{\"DateFin\":\"2004-05-14\",\"DateDebut\":\"1998-12-25\",\"EtatAdministratifEtablissement\":\"A\",\"IndEtatAdministratifEtablissement\":false,\"ActivitePrincipaleEtablissement\":\"74.1A\",\"LibelleActiviteEtablissement\":\"Activités juridiques\",\"NomenclatureActiviteEtablissement\":\"NAF1993\",\"IndActivitePrincipaleEtablissement\":true,\"CaractereEmployeurEtablissement\":\"O\",\"IndCaractereEmployeurEtablissement\":true,\"Enseigne1\":null,\"Enseigne2\":null,\"Enseigne3\":null,\"IndEnseigneEtablissement\":false},{\"DateFin\":\"1998-12-24\",\"DateDebut\":\"1998-01-20\",\"EtatAdministratifEtablissement\":\"A\",\"IndEtatAdministratifEtablissement\":true,\"ActivitePrincipaleEtablissement\":null,\"LibelleActiviteEtablissement\":null,\"NomenclatureActiviteEtablissement\":null,\"IndActivitePrincipaleEtablissement\":true,\"CaractereEmployeurEtablissement\":null,\"IndCaractereEmployeurEtablissement\":true,\"Enseigne1\":null,\"Enseigne2\":null,\"Enseigne3\":null,\"IndEnseigneEtablissement\":true}]},{\"Siren\":\"313041824\",\"Nic\":\"00019\",\"StatutDiffusionEtablissement\":\"O\",\"DateCreationEtablissement\":\"1978-01-01\",\"NombrePeriodes\":4,\"UniteLegale\":{\"StatutDiffusionUniteLegale\":\"O\",\"DateCreationUniteLegale\":\"1978-01-01\",\"Sigle\":null,\"Sexe\":null,\"NomUsage\":null,\"Prenom1\":null,\"Prenom2\":null,\"Prenom3\":null,\"Prenom4\":null,\"PrenomUsuel\":null,\"CaractereEmployeur\":\"N\",\"EtatAdministratif\":\"C\",\"Nom\":null,\"Denomination\":\"SCP YVES BARQ  NOTAIRE\",\"ActivitePrincipale\":\"69.10Z\",\"LibelleActivite\":\"Activités juridiques\",\"NomenclatureActivite\":\"NAFRev2\",\"CategorieJuridique\":\"6565\",\"CategorieProfessionnelle\":null,\"NICSiege\":\"00027\"},\"Adresse\":{\"ComplementAdresseEtablissement\":null,\"NumeroVoieEtablissement\":null,\"IndiceRepetitionEtablissement\":null,\"TypeVoieEtablissement\":\"RUE\",\"LibelleVoieEtablissement\":\"DE LA MAIRIE\",\"CodePostalEtablissement\":\"44130\",\"LibelleCommuneEtablissement\":\"FAY DE BRETAGNE\",\"LibelleCommuneEtrangerEtablissement\":null,\"DistributionSpecialeEtablissement\":null,\"CodeCommuneEtablissement\":\"44056\",\"CedexEtablissement\":null},\"Periodes\":[{\"DateFin\":null,\"DateDebut\":\"1996-12-25\",\"EtatAdministratifEtablissement\":\"F\",\"IndEtatAdministratifEtablissement\":false,\"ActivitePrincipaleEtablissement\":\"74.1A\",\"LibelleActiviteEtablissement\":\"Activités juridiques\",\"NomenclatureActiviteEtablissement\":\"NAF1993\",\"IndActivitePrincipaleEtablissement\":false,\"CaractereEmployeurEtablissement\":\"O\",\"IndCaractereEmployeurEtablissement\":true,\"Enseigne1\":\"OFFICE NOTARIAL\",\"Enseigne2\":null,\"Enseigne3\":null,\"IndEnseigneEtablissement\":false},{\"DateFin\":\"1996-12-24\",\"DateDebut\":\"1995-11-22\",\"EtatAdministratifEtablissement\":\"F\",\"IndEtatAdministratifEtablissement\":true,\"ActivitePrincipaleEtablissement\":\"74.1A\",\"LibelleActiviteEtablissement\":\"Activités juridiques\",\"NomenclatureActiviteEtablissement\":\"NAF1993\",\"IndActivitePrincipaleEtablissement\":false,\"CaractereEmployeurEtablissement\":null,\"IndCaractereEmployeurEtablissement\":false,\"Enseigne1\":\"OFFICE NOTARIAL\",\"Enseigne2\":null,\"Enseigne3\":null,\"IndEnseigneEtablissement\":false},{\"DateFin\":\"1995-11-21\",\"DateDebut\":\"1989-12-25\",\"EtatAdministratifEtablissement\":\"A\",\"IndEtatAdministratifEtablissement\":false,\"ActivitePrincipaleEtablissement\":\"74.1A\",\"LibelleActiviteEtablissement\":\"Activités juridiques\",\"NomenclatureActiviteEtablissement\":\"NAF1993\",\"IndActivitePrincipaleEtablissement\":true,\"CaractereEmployeurEtablissement\":null,\"IndCaractereEmployeurEtablissement\":false,\"Enseigne1\":\"OFFICE NOTARIAL\",\"Enseigne2\":null,\"Enseigne3\":null,\"IndEnseigneEtablissement\":false},{\"DateFin\":\"1989-12-24\",\"DateDebut\":\"1978-01-01\",\"EtatAdministratifEtablissement\":\"A\",\"IndEtatAdministratifEtablissement\":true,\"ActivitePrincipaleEtablissement\":null,\"LibelleActiviteEtablissement\":null,\"NomenclatureActiviteEtablissement\":null,\"IndActivitePrincipaleEtablissement\":true,\"CaractereEmployeurEtablissement\":null,\"IndCaractereEmployeurEtablissement\":true,\"Enseigne1\":\"OFFICE NOTARIAL\",\"Enseigne2\":null,\"Enseigne3\":null,\"IndEnseigneEtablissement\":true}]},{\"Siren\":\"395190309\",\"Nic\":\"00017\",\"StatutDiffusionEtablissement\":\"O\",\"DateCreationEtablissement\":\"1994-05-19\",\"NombrePeriodes\":5,\"UniteLegale\":{\"StatutDiffusionUniteLegale\":\"O\",\"DateCreationUniteLegale\":\"1994-05-19\",\"Sigle\":\"SCPTON\",\"Sexe\":null,\"NomUsage\":null,\"Prenom1\":null,\"Prenom2\":null,\"Prenom3\":null,\"Prenom4\":null,\"PrenomUsuel\":null,\"CaractereEmployeur\":\"O\",\"EtatAdministratif\":\"A\",\"Nom\":null,\"Denomination\":\"CARRYLLE MANNA, NOTAIRE ASSOCIEE\",\"ActivitePrincipale\":\"69.10Z\",\"LibelleActivite\":\"Activités juridiques\",\"NomenclatureActivite\":\"NAFRev2\",\"CategorieJuridique\":\"6565\",\"CategorieProfessionnelle\":null,\"NICSiege\":\"00025\"},\"Adresse\":{\"ComplementAdresseEtablissement\":\"SAINT PARGOIRE\",\"NumeroVoieEtablissement\":\"38\",\"IndiceRepetitionEtablissement\":null,\"TypeVoieEtablissement\":\"AV\",\"LibelleVoieEtablissement\":\"DE CAMPAGNAN\",\"CodePostalEtablissement\":\"34230\",\"LibelleCommuneEtablissement\":\"SAINT PARGOIRE\",\"LibelleCommuneEtrangerEtablissement\":null,\"DistributionSpecialeEtablissement\":null,\"CodeCommuneEtablissement\":\"34281\",\"CedexEtablissement\":null},\"Periodes\":[{\"DateFin\":null,\"DateDebut\":\"2014-02-21\",\"EtatAdministratifEtablissement\":\"F\",\"IndEtatAdministratifEtablissement\":true,\"ActivitePrincipaleEtablissement\":\"69.10Z\",\"LibelleActiviteEtablissement\":\"Activités juridiques\",\"NomenclatureActiviteEtablissement\":\"NAFRev2\",\"IndActivitePrincipaleEtablissement\":false,\"CaractereEmployeurEtablissement\":\"O\",\"IndCaractereEmployeurEtablissement\":false,\"Enseigne1\":null,\"Enseigne2\":null,\"Enseigne3\":null,\"IndEnseigneEtablissement\":false},{\"DateFin\":\"2014-02-20\",\"DateDebut\":\"2008-01-01\",\"EtatAdministratifEtablissement\":\"A\",\"IndEtatAdministratifEtablissement\":false,\"ActivitePrincipaleEtablissement\":\"69.10Z\",\"LibelleActiviteEtablissement\":\"Activités juridiques\",\"NomenclatureActiviteEtablissement\":\"NAFRev2\",\"IndActivitePrincipaleEtablissement\":true,\"CaractereEmployeurEtablissement\":\"O\",\"IndCaractereEmployeurEtablissement\":false,\"Enseigne1\":null,\"Enseigne2\":null,\"Enseigne3\":null,\"IndEnseigneEtablissement\":false},{\"DateFin\":\"2007-12-31\",\"DateDebut\":\"1996-12-25\",\"EtatAdministratifEtablissement\":\"A\",\"IndEtatAdministratifEtablissement\":false,\"ActivitePrincipaleEtablissement\":\"74.1A\",\"LibelleActiviteEtablissement\":\"Activités juridiques\",\"NomenclatureActiviteEtablissement\":\"NAF1993\",\"IndActivitePrincipaleEtablissement\":true,\"CaractereEmployeurEtablissement\":\"O\",\"IndCaractereEmployeurEtablissement\":false,\"Enseigne1\":null,\"Enseigne2\":null,\"Enseigne3\":null,\"IndEnseigneEtablissement\":false},{\"DateFin\":\"1996-12-24\",\"DateDebut\":\"1995-12-25\",\"EtatAdministratifEtablissement\":\"A\",\"IndEtatAdministratifEtablissement\":false,\"ActivitePrincipaleEtablissement\":null,\"LibelleActiviteEtablissement\":null,\"NomenclatureActiviteEtablissement\":null,\"IndActivitePrincipaleEtablissement\":false,\"CaractereEmployeurEtablissement\":\"O\",\"IndCaractereEmployeurEtablissement\":true,\"Enseigne1\":null,\"Enseigne2\":null,\"Enseigne3\":null,\"IndEnseigneEtablissement\":false},{\"DateFin\":\"1995-12-24\",\"DateDebut\":\"1994-05-19\",\"EtatAdministratifEtablissement\":\"A\",\"IndEtatAdministratifEtablissement\":true,\"ActivitePrincipaleEtablissement\":null,\"LibelleActiviteEtablissement\":null,\"NomenclatureActiviteEtablissement\":null,\"IndActivitePrincipaleEtablissement\":true,\"CaractereEmployeurEtablissement\":null,\"IndCaractereEmployeurEtablissement\":true,\"Enseigne1\":null,\"Enseigne2\":null,\"Enseigne3\":null,\"IndEnseigneEtablissement\":true}]},{\"Siren\":\"421097148\",\"Nic\":\"00025\",\"StatutDiffusionEtablissement\":\"O\",\"DateCreationEtablissement\":\"1999-09-01\",\"NombrePeriodes\":3,\"UniteLegale\":{\"StatutDiffusionUniteLegale\":\"O\",\"DateCreationUniteLegale\":\"1998-12-02\",\"Sigle\":null,\"Sexe\":null,\"NomUsage\":null,\"Prenom1\":null,\"Prenom2\":null,\"Prenom3\":null,\"Prenom4\":null,\"PrenomUsuel\":null,\"CaractereEmployeur\":\"O\",\"EtatAdministratif\":\"A\",\"Nom\":null,\"Denomination\":\"DENIS BONGENDRE, NOTAIRE ASSOCIE\",\"ActivitePrincipale\":\"69.10Z\",\"LibelleActivite\":\"Activités juridiques\",\"NomenclatureActivite\":\"NAFRev2\",\"CategorieJuridique\":\"6565\",\"CategorieProfessionnelle\":null,\"NICSiege\":\"00033\"},\"Adresse\":{\"ComplementAdresseEtablissement\":null,\"NumeroVoieEtablissement\":\"252\",\"IndiceRepetitionEtablissement\":null,\"TypeVoieEtablissement\":\"RUE\",\"LibelleVoieEtablissement\":\"DE LA REPUBLIQUE\",\"CodePostalEtablissement\":\"30290\",\"LibelleCommuneEtablissement\":\"LAUDUN L\\'ARDOISE\",\"LibelleCommuneEtrangerEtablissement\":null,\"DistributionSpecialeEtablissement\":null,\"CodeCommuneEtablissement\":\"30141\",\"CedexEtablissement\":null},\"Periodes\":[{\"DateFin\":null,\"DateDebut\":\"2008-01-01\",\"EtatAdministratifEtablissement\":\"A\",\"IndEtatAdministratifEtablissement\":false,\"ActivitePrincipaleEtablissement\":\"69.10Z\",\"LibelleActiviteEtablissement\":\"Activités juridiques\",\"NomenclatureActiviteEtablissement\":\"NAFRev2\",\"IndActivitePrincipaleEtablissement\":true,\"CaractereEmployeurEtablissement\":\"N\",\"IndCaractereEmployeurEtablissement\":false,\"Enseigne1\":null,\"Enseigne2\":null,\"Enseigne3\":null,\"IndEnseigneEtablissement\":false},{\"DateFin\":\"2007-12-31\",\"DateDebut\":\"1999-12-25\",\"EtatAdministratifEtablissement\":\"A\",\"IndEtatAdministratifEtablissement\":false,\"ActivitePrincipaleEtablissement\":\"74.1A\",\"LibelleActiviteEtablissement\":\"Activités juridiques\",\"NomenclatureActiviteEtablissement\":\"NAF1993\",\"IndActivitePrincipaleEtablissement\":true,\"CaractereEmployeurEtablissement\":\"N\",\"IndCaractereEmployeurEtablissement\":false,\"Enseigne1\":null,\"Enseigne2\":null,\"Enseigne3\":null,\"IndEnseigneEtablissement\":false},{\"DateFin\":\"1999-12-24\",\"DateDebut\":\"1999-09-01\",\"EtatAdministratifEtablissement\":\"A\",\"IndEtatAdministratifEtablissement\":true,\"ActivitePrincipaleEtablissement\":null,\"LibelleActiviteEtablissement\":null,\"NomenclatureActiviteEtablissement\":null,\"IndActivitePrincipaleEtablissement\":true,\"CaractereEmployeurEtablissement\":\"N\",\"IndCaractereEmployeurEtablissement\":true,\"Enseigne1\":null,\"Enseigne2\":null,\"Enseigne3\":null,\"IndEnseigneEtablissement\":true}]},{\"Siren\":\"533326187\",\"Nic\":\"00028\",\"StatutDiffusionEtablissement\":\"O\",\"DateCreationEtablissement\":\"2017-04-03\",\"NombrePeriodes\":1,\"UniteLegale\":{\"StatutDiffusionUniteLegale\":\"O\",\"DateCreationUniteLegale\":\"2011-07-08\",\"Sigle\":null,\"Sexe\":null,\"NomUsage\":null,\"Prenom1\":null,\"Prenom2\":null,\"Prenom3\":null,\"Prenom4\":null,\"PrenomUsuel\":null,\"CaractereEmployeur\":\"N\",\"EtatAdministratif\":\"A\",\"Nom\":null,\"Denomination\":\"CORINNE FRANCOIS-VANHOLME NOTAIRE\",\"ActivitePrincipale\":\"69.10Z\",\"LibelleActivite\":\"Activités juridiques\",\"NomenclatureActivite\":\"NAFRev2\",\"CategorieJuridique\":\"5485\",\"CategorieProfessionnelle\":null,\"NICSiege\":\"00028\"},\"Adresse\":{\"ComplementAdresseEtablissement\":null,\"NumeroVoieEtablissement\":\"28\",\"IndiceRepetitionEtablissement\":null,\"TypeVoieEtablissement\":\"RUE\",\"LibelleVoieEtablissement\":\"LEO LAGRANGE\",\"CodePostalEtablissement\":\"62570\",\"LibelleCommuneEtablissement\":\"WIZERNES\",\"LibelleCommuneEtrangerEtablissement\":null,\"DistributionSpecialeEtablissement\":null,\"CodeCommuneEtablissement\":\"62902\",\"CedexEtablissement\":null},\"Periodes\":[{\"DateFin\":null,\"DateDebut\":\"2017-04-03\",\"EtatAdministratifEtablissement\":\"A\",\"IndEtatAdministratifEtablissement\":true,\"ActivitePrincipaleEtablissement\":\"69.10Z\",\"LibelleActiviteEtablissement\":\"Activités juridiques\",\"NomenclatureActiviteEtablissement\":\"NAFRev2\",\"IndActivitePrincipaleEtablissement\":true,\"CaractereEmployeurEtablissement\":\"N\",\"IndCaractereEmployeurEtablissement\":true,\"Enseigne1\":null,\"Enseigne2\":null,\"Enseigne3\":null,\"IndEnseigneEtablissement\":true}]},{\"Siren\":\"534061338\",\"Nic\":\"00016\",\"StatutDiffusionEtablissement\":\"O\",\"DateCreationEtablissement\":\"2011-09-01\",\"NombrePeriodes\":2,\"UniteLegale\":{\"StatutDiffusionUniteLegale\":\"O\",\"DateCreationUniteLegale\":\"2011-09-01\",\"Sigle\":null,\"Sexe\":null,\"NomUsage\":null,\"Prenom1\":null,\"Prenom2\":null,\"Prenom3\":null,\"Prenom4\":null,\"PrenomUsuel\":null,\"CaractereEmployeur\":\"O\",\"EtatAdministratif\":\"A\",\"Nom\":null,\"Denomination\":\"CELINE FORT NOTAIRE\",\"ActivitePrincipale\":\"69.10Z\",\"LibelleActivite\":\"Activités juridiques\",\"NomenclatureActivite\":\"NAFRev2\",\"CategorieJuridique\":\"5485\",\"CategorieProfessionnelle\":null,\"NICSiege\":\"00016\"},\"Adresse\":{\"ComplementAdresseEtablissement\":null,\"NumeroVoieEtablissement\":\"6\",\"IndiceRepetitionEtablissement\":null,\"TypeVoieEtablissement\":\"PL\",\"LibelleVoieEtablissement\":\"DE LA MAIRIE\",\"CodePostalEtablissement\":\"91400\",\"LibelleCommuneEtablissement\":\"SACLAY\",\"LibelleCommuneEtrangerEtablissement\":null,\"DistributionSpecialeEtablissement\":null,\"CodeCommuneEtablissement\":\"91534\",\"CedexEtablissement\":null},\"Periodes\":[{\"DateFin\":null,\"DateDebut\":\"2012-12-31\",\"EtatAdministratifEtablissement\":\"A\",\"IndEtatAdministratifEtablissement\":false,\"ActivitePrincipaleEtablissement\":\"69.10Z\",\"LibelleActiviteEtablissement\":\"Activités juridiques\",\"NomenclatureActiviteEtablissement\":\"NAFRev2\",\"IndActivitePrincipaleEtablissement\":false,\"CaractereEmployeurEtablissement\":\"O\",\"IndCaractereEmployeurEtablissement\":true,\"Enseigne1\":null,\"Enseigne2\":null,\"Enseigne3\":null,\"IndEnseigneEtablissement\":false},{\"DateFin\":\"2012-12-30\",\"DateDebut\":\"2011-09-01\",\"EtatAdministratifEtablissement\":\"A\",\"IndEtatAdministratifEtablissement\":true,\"ActivitePrincipaleEtablissement\":\"69.10Z\",\"LibelleActiviteEtablissement\":\"Activités juridiques\",\"NomenclatureActiviteEtablissement\":\"NAFRev2\",\"IndActivitePrincipaleEtablissement\":true,\"CaractereEmployeurEtablissement\":\"N\",\"IndCaractereEmployeurEtablissement\":true,\"Enseigne1\":null,\"Enseigne2\":null,\"Enseigne3\":null,\"IndEnseigneEtablissement\":true}]},{\"Siren\":\"531870087\",\"Nic\":\"00016\",\"StatutDiffusionEtablissement\":\"O\",\"DateCreationEtablissement\":\"2011-04-21\",\"NombrePeriodes\":2,\"UniteLegale\":{\"StatutDiffusionUniteLegale\":\"O\",\"DateCreationUniteLegale\":\"2011-04-21\",\"Sigle\":null,\"Sexe\":null,\"NomUsage\":null,\"Prenom1\":null,\"Prenom2\":null,\"Prenom3\":null,\"Prenom4\":null,\"PrenomUsuel\":null,\"CaractereEmployeur\":\"O\",\"EtatAdministratif\":\"A\",\"Nom\":null,\"Denomination\":\"ANNE ALLEN-GOUMET NOTAIRE\",\"ActivitePrincipale\":\"69.10Z\",\"LibelleActivite\":\"Activités juridiques\",\"NomenclatureActivite\":\"NAFRev2\",\"CategorieJuridique\":\"5485\",\"CategorieProfessionnelle\":null,\"NICSiege\":\"00016\"},\"Adresse\":{\"ComplementAdresseEtablissement\":null,\"NumeroVoieEtablissement\":\"6\",\"IndiceRepetitionEtablissement\":null,\"TypeVoieEtablissement\":\"AV\",\"LibelleVoieEtablissement\":\"GUSTAVE GOUTAREL\",\"CodePostalEtablissement\":\"84130\",\"LibelleCommuneEtablissement\":\"LE PONTET\",\"LibelleCommuneEtrangerEtablissement\":null,\"DistributionSpecialeEtablissement\":null,\"CodeCommuneEtablissement\":\"84092\",\"CedexEtablissement\":null},\"Periodes\":[{\"DateFin\":null,\"DateDebut\":\"2011-11-01\",\"EtatAdministratifEtablissement\":\"A\",\"IndEtatAdministratifEtablissement\":false,\"ActivitePrincipaleEtablissement\":\"69.10Z\",\"LibelleActiviteEtablissement\":\"Activités juridiques\",\"NomenclatureActiviteEtablissement\":\"NAFRev2\",\"IndActivitePrincipaleEtablissement\":false,\"CaractereEmployeurEtablissement\":\"O\",\"IndCaractereEmployeurEtablissement\":true,\"Enseigne1\":null,\"Enseigne2\":null,\"Enseigne3\":null,\"IndEnseigneEtablissement\":false},{\"DateFin\":\"2011-10-31\",\"DateDebut\":\"2011-04-21\",\"EtatAdministratifEtablissement\":\"A\",\"IndEtatAdministratifEtablissement\":true,\"ActivitePrincipaleEtablissement\":\"69.10Z\",\"LibelleActiviteEtablissement\":\"Activités juridiques\",\"NomenclatureActiviteEtablissement\":\"NAFRev2\",\"IndActivitePrincipaleEtablissement\":true,\"CaractereEmployeurEtablissement\":\"N\",\"IndCaractereEmployeurEtablissement\":true,\"Enseigne1\":null,\"Enseigne2\":null,\"Enseigne3\":null,\"IndEnseigneEtablissement\":true}]},{\"Siren\":\"784338899\",\"Nic\":\"00023\",\"StatutDiffusionEtablissement\":\"O\",\"DateCreationEtablissement\":\"1900-01-01\",\"NombrePeriodes\":4,\"UniteLegale\":{\"StatutDiffusionUniteLegale\":\"O\",\"DateCreationUniteLegale\":\"1900-01-01\",\"Sigle\":\"CRN\",\"Sexe\":null,\"NomUsage\":null,\"Prenom1\":null,\"Prenom2\":null,\"Prenom3\":null,\"Prenom4\":null,\"PrenomUsuel\":null,\"CaractereEmployeur\":\"O\",\"EtatAdministratif\":\"A\",\"Nom\":null,\"Denomination\":\"CAISSE ALLOCATION VIEILLESSE NOTAIRE\",\"ActivitePrincipale\":\"84.30B\",\"LibelleActivite\":\"Gestion des retraites complémentaires\",\"NomenclatureActivite\":\"NAFRev2\",\"CategorieJuridique\":\"8130\",\"CategorieProfessionnelle\":null,\"NICSiege\":\"00015\"},\"Adresse\":{\"ComplementAdresseEtablissement\":null,\"NumeroVoieEtablissement\":\"25\",\"IndiceRepetitionEtablissement\":null,\"TypeVoieEtablissement\":\"RUE\",\"LibelleVoieEtablissement\":\"D\\'ARTOIS\",\"CodePostalEtablissement\":\"75008\",\"LibelleCommuneEtablissement\":\"PARIS\",\"LibelleCommuneEtrangerEtablissement\":null,\"DistributionSpecialeEtablissement\":null,\"CodeCommuneEtablissement\":\"75108\",\"CedexEtablissement\":null},\"Periodes\":[{\"DateFin\":null,\"DateDebut\":\"2008-03-18\",\"EtatAdministratifEtablissement\":\"A\",\"IndEtatAdministratifEtablissement\":false,\"ActivitePrincipaleEtablissement\":\"84.30B\",\"LibelleActiviteEtablissement\":\"Gestion des retraites complémentaires\",\"NomenclatureActiviteEtablissement\":\"NAFRev2\",\"IndActivitePrincipaleEtablissement\":false,\"CaractereEmployeurEtablissement\":\"O\",\"IndCaractereEmployeurEtablissement\":true,\"Enseigne1\":null,\"Enseigne2\":null,\"Enseigne3\":null,\"IndEnseigneEtablissement\":false},{\"DateFin\":\"2008-03-17\",\"DateDebut\":\"2008-01-01\",\"EtatAdministratifEtablissement\":\"A\",\"IndEtatAdministratifEtablissement\":false,\"ActivitePrincipaleEtablissement\":\"84.30B\",\"LibelleActiviteEtablissement\":\"Gestion des retraites complémentaires\",\"NomenclatureActiviteEtablissement\":\"NAFRev2\",\"IndActivitePrincipaleEtablissement\":true,\"CaractereEmployeurEtablissement\":\"N\",\"IndCaractereEmployeurEtablissement\":false,\"Enseigne1\":null,\"Enseigne2\":null,\"Enseigne3\":null,\"IndEnseigneEtablissement\":false},{\"DateFin\":\"2007-12-31\",\"DateDebut\":\"1993-12-25\",\"EtatAdministratifEtablissement\":\"A\",\"IndEtatAdministratifEtablissement\":false,\"ActivitePrincipaleEtablissement\":\"75.3B\",\"LibelleActiviteEtablissement\":\"Gestion des retraites complémentaires\",\"NomenclatureActiviteEtablissement\":\"NAF1993\",\"IndActivitePrincipaleEtablissement\":true,\"CaractereEmployeurEtablissement\":\"N\",\"IndCaractereEmployeurEtablissement\":false,\"Enseigne1\":null,\"Enseigne2\":null,\"Enseigne3\":null,\"IndEnseigneEtablissement\":false},{\"DateFin\":\"1993-12-24\",\"DateDebut\":\"1900-01-01\",\"EtatAdministratifEtablissement\":\"A\",\"IndEtatAdministratifEtablissement\":true,\"ActivitePrincipaleEtablissement\":null,\"LibelleActiviteEtablissement\":null,\"NomenclatureActiviteEtablissement\":null,\"IndActivitePrincipaleEtablissement\":true,\"CaractereEmployeurEtablissement\":\"N\",\"IndCaractereEmployeurEtablissement\":true,\"Enseigne1\":null,\"Enseigne2\":null,\"Enseigne3\":null,\"IndEnseigneEtablissement\":true}]}]}'"
      ]
     },
     "execution_count": 10,
     "metadata": {},
     "output_type": "execute_result"
    }
   ],
   "source": [
    "requete.text"
   ]
  },
  {
   "cell_type": "markdown",
   "metadata": {},
   "source": [
    "Pour pouvoir manipuler les données, il faut d'abord les 'parser'...   \n",
    "Pour Python il s'agit encore du résultat d'une requête HTTP."
   ]
  },
  {
   "cell_type": "code",
   "execution_count": 11,
   "metadata": {},
   "outputs": [
    {
     "ename": "AttributeError",
     "evalue": "'Response' object has no attribute 'keys'",
     "output_type": "error",
     "traceback": [
      "\u001b[0;31m---------------------------------------------------------------------------\u001b[0m",
      "\u001b[0;31mAttributeError\u001b[0m                            Traceback (most recent call last)",
      "\u001b[0;32m<ipython-input-11-254c47a065db>\u001b[0m in \u001b[0;36m<module>\u001b[0;34m()\u001b[0m\n\u001b[0;32m----> 1\u001b[0;31m \u001b[0mrequete\u001b[0m\u001b[0;34m.\u001b[0m\u001b[0mkeys\u001b[0m\u001b[0;34m(\u001b[0m\u001b[0;34m)\u001b[0m\u001b[0;34m\u001b[0m\u001b[0m\n\u001b[0m",
      "\u001b[0;31mAttributeError\u001b[0m: 'Response' object has no attribute 'keys'"
     ]
    }
   ],
   "source": [
    "requete.keys()"
   ]
  },
  {
   "cell_type": "markdown",
   "metadata": {},
   "source": [
    "Parser le contenu de la réponse est triviale (quand le contenu/body respecte un format supporté)"
   ]
  },
  {
   "cell_type": "code",
   "execution_count": 12,
   "metadata": {},
   "outputs": [],
   "source": [
    "data_raw = requete.json()"
   ]
  },
  {
   "cell_type": "markdown",
   "metadata": {},
   "source": [
    "Maintenant on dispose d'un dictionnaire Python classique (cf. [les dictionnaires Python](https://www.tutorialspoint.com/python/python_dictionary.htm) au besoin)"
   ]
  },
  {
   "cell_type": "code",
   "execution_count": 13,
   "metadata": {},
   "outputs": [
    {
     "data": {
      "text/plain": [
       "dict_keys(['Header', 'Etablissements'])"
      ]
     },
     "execution_count": 13,
     "metadata": {},
     "output_type": "execute_result"
    }
   ],
   "source": [
    "data_raw.keys()"
   ]
  },
  {
   "cell_type": "markdown",
   "metadata": {},
   "source": [
    "Le contenu qui nous intéresse correspond à la clé Etablissements, qui elle contient une liste des établissements correspondant à la requête."
   ]
  },
  {
   "cell_type": "code",
   "execution_count": 14,
   "metadata": {},
   "outputs": [
    {
     "data": {
      "text/plain": [
       "list"
      ]
     },
     "execution_count": 14,
     "metadata": {},
     "output_type": "execute_result"
    }
   ],
   "source": [
    "data = data_raw[\"Etablissements\"]\n",
    "type(data)"
   ]
  },
  {
   "cell_type": "markdown",
   "metadata": {},
   "source": [
    "## Autres requêtes"
   ]
  },
  {
   "cell_type": "markdown",
   "metadata": {},
   "source": [
    "On peut aussi requêter l'API pour avoir l'historique complet (entreprise existante et fermée) à partir de la racine 'siren'."
   ]
  },
  {
   "cell_type": "code",
   "execution_count": 15,
   "metadata": {},
   "outputs": [
    {
     "ename": "ConnectionError",
     "evalue": "HTTPSConnectionPool(host='prototype.api-sirene.insee.fr', port=443): Max retries exceeded with url: /ws/siren/?q=Denomination%3ANotaire (Caused by NewConnectionError('<urllib3.connection.VerifiedHTTPSConnection object at 0x7f4d0eedd0f0>: Failed to establish a new connection: [Errno -2] Name or service not known',))",
     "output_type": "error",
     "traceback": [
      "\u001b[0;31m---------------------------------------------------------------------------\u001b[0m",
      "\u001b[0;31mgaierror\u001b[0m                                  Traceback (most recent call last)",
      "\u001b[0;32m/opt/conda/lib/python3.6/site-packages/urllib3/connection.py\u001b[0m in \u001b[0;36m_new_conn\u001b[0;34m(self)\u001b[0m\n\u001b[1;32m    140\u001b[0m             conn = connection.create_connection(\n\u001b[0;32m--> 141\u001b[0;31m                 (self.host, self.port), self.timeout, **extra_kw)\n\u001b[0m\u001b[1;32m    142\u001b[0m \u001b[0;34m\u001b[0m\u001b[0m\n",
      "\u001b[0;32m/opt/conda/lib/python3.6/site-packages/urllib3/util/connection.py\u001b[0m in \u001b[0;36mcreate_connection\u001b[0;34m(address, timeout, source_address, socket_options)\u001b[0m\n\u001b[1;32m     59\u001b[0m \u001b[0;34m\u001b[0m\u001b[0m\n\u001b[0;32m---> 60\u001b[0;31m     \u001b[0;32mfor\u001b[0m \u001b[0mres\u001b[0m \u001b[0;32min\u001b[0m \u001b[0msocket\u001b[0m\u001b[0;34m.\u001b[0m\u001b[0mgetaddrinfo\u001b[0m\u001b[0;34m(\u001b[0m\u001b[0mhost\u001b[0m\u001b[0;34m,\u001b[0m \u001b[0mport\u001b[0m\u001b[0;34m,\u001b[0m \u001b[0mfamily\u001b[0m\u001b[0;34m,\u001b[0m \u001b[0msocket\u001b[0m\u001b[0;34m.\u001b[0m\u001b[0mSOCK_STREAM\u001b[0m\u001b[0;34m)\u001b[0m\u001b[0;34m:\u001b[0m\u001b[0;34m\u001b[0m\u001b[0m\n\u001b[0m\u001b[1;32m     61\u001b[0m         \u001b[0maf\u001b[0m\u001b[0;34m,\u001b[0m \u001b[0msocktype\u001b[0m\u001b[0;34m,\u001b[0m \u001b[0mproto\u001b[0m\u001b[0;34m,\u001b[0m \u001b[0mcanonname\u001b[0m\u001b[0;34m,\u001b[0m \u001b[0msa\u001b[0m \u001b[0;34m=\u001b[0m \u001b[0mres\u001b[0m\u001b[0;34m\u001b[0m\u001b[0m\n",
      "\u001b[0;32m/opt/conda/lib/python3.6/socket.py\u001b[0m in \u001b[0;36mgetaddrinfo\u001b[0;34m(host, port, family, type, proto, flags)\u001b[0m\n\u001b[1;32m    742\u001b[0m     \u001b[0maddrlist\u001b[0m \u001b[0;34m=\u001b[0m \u001b[0;34m[\u001b[0m\u001b[0;34m]\u001b[0m\u001b[0;34m\u001b[0m\u001b[0m\n\u001b[0;32m--> 743\u001b[0;31m     \u001b[0;32mfor\u001b[0m \u001b[0mres\u001b[0m \u001b[0;32min\u001b[0m \u001b[0m_socket\u001b[0m\u001b[0;34m.\u001b[0m\u001b[0mgetaddrinfo\u001b[0m\u001b[0;34m(\u001b[0m\u001b[0mhost\u001b[0m\u001b[0;34m,\u001b[0m \u001b[0mport\u001b[0m\u001b[0;34m,\u001b[0m \u001b[0mfamily\u001b[0m\u001b[0;34m,\u001b[0m \u001b[0mtype\u001b[0m\u001b[0;34m,\u001b[0m \u001b[0mproto\u001b[0m\u001b[0;34m,\u001b[0m \u001b[0mflags\u001b[0m\u001b[0;34m)\u001b[0m\u001b[0;34m:\u001b[0m\u001b[0;34m\u001b[0m\u001b[0m\n\u001b[0m\u001b[1;32m    744\u001b[0m         \u001b[0maf\u001b[0m\u001b[0;34m,\u001b[0m \u001b[0msocktype\u001b[0m\u001b[0;34m,\u001b[0m \u001b[0mproto\u001b[0m\u001b[0;34m,\u001b[0m \u001b[0mcanonname\u001b[0m\u001b[0;34m,\u001b[0m \u001b[0msa\u001b[0m \u001b[0;34m=\u001b[0m \u001b[0mres\u001b[0m\u001b[0;34m\u001b[0m\u001b[0m\n",
      "\u001b[0;31mgaierror\u001b[0m: [Errno -2] Name or service not known",
      "\nDuring handling of the above exception, another exception occurred:\n",
      "\u001b[0;31mNewConnectionError\u001b[0m                        Traceback (most recent call last)",
      "\u001b[0;32m/opt/conda/lib/python3.6/site-packages/urllib3/connectionpool.py\u001b[0m in \u001b[0;36murlopen\u001b[0;34m(self, method, url, body, headers, retries, redirect, assert_same_host, timeout, pool_timeout, release_conn, chunked, body_pos, **response_kw)\u001b[0m\n\u001b[1;32m    600\u001b[0m                                                   \u001b[0mbody\u001b[0m\u001b[0;34m=\u001b[0m\u001b[0mbody\u001b[0m\u001b[0;34m,\u001b[0m \u001b[0mheaders\u001b[0m\u001b[0;34m=\u001b[0m\u001b[0mheaders\u001b[0m\u001b[0;34m,\u001b[0m\u001b[0;34m\u001b[0m\u001b[0m\n\u001b[0;32m--> 601\u001b[0;31m                                                   chunked=chunked)\n\u001b[0m\u001b[1;32m    602\u001b[0m \u001b[0;34m\u001b[0m\u001b[0m\n",
      "\u001b[0;32m/opt/conda/lib/python3.6/site-packages/urllib3/connectionpool.py\u001b[0m in \u001b[0;36m_make_request\u001b[0;34m(self, conn, method, url, timeout, chunked, **httplib_request_kw)\u001b[0m\n\u001b[1;32m    345\u001b[0m         \u001b[0;32mtry\u001b[0m\u001b[0;34m:\u001b[0m\u001b[0;34m\u001b[0m\u001b[0m\n\u001b[0;32m--> 346\u001b[0;31m             \u001b[0mself\u001b[0m\u001b[0;34m.\u001b[0m\u001b[0m_validate_conn\u001b[0m\u001b[0;34m(\u001b[0m\u001b[0mconn\u001b[0m\u001b[0;34m)\u001b[0m\u001b[0;34m\u001b[0m\u001b[0m\n\u001b[0m\u001b[1;32m    347\u001b[0m         \u001b[0;32mexcept\u001b[0m \u001b[0;34m(\u001b[0m\u001b[0mSocketTimeout\u001b[0m\u001b[0;34m,\u001b[0m \u001b[0mBaseSSLError\u001b[0m\u001b[0;34m)\u001b[0m \u001b[0;32mas\u001b[0m \u001b[0me\u001b[0m\u001b[0;34m:\u001b[0m\u001b[0;34m\u001b[0m\u001b[0m\n",
      "\u001b[0;32m/opt/conda/lib/python3.6/site-packages/urllib3/connectionpool.py\u001b[0m in \u001b[0;36m_validate_conn\u001b[0;34m(self, conn)\u001b[0m\n\u001b[1;32m    849\u001b[0m         \u001b[0;32mif\u001b[0m \u001b[0;32mnot\u001b[0m \u001b[0mgetattr\u001b[0m\u001b[0;34m(\u001b[0m\u001b[0mconn\u001b[0m\u001b[0;34m,\u001b[0m \u001b[0;34m'sock'\u001b[0m\u001b[0;34m,\u001b[0m \u001b[0;32mNone\u001b[0m\u001b[0;34m)\u001b[0m\u001b[0;34m:\u001b[0m  \u001b[0;31m# AppEngine might not have  `.sock`\u001b[0m\u001b[0;34m\u001b[0m\u001b[0m\n\u001b[0;32m--> 850\u001b[0;31m             \u001b[0mconn\u001b[0m\u001b[0;34m.\u001b[0m\u001b[0mconnect\u001b[0m\u001b[0;34m(\u001b[0m\u001b[0;34m)\u001b[0m\u001b[0;34m\u001b[0m\u001b[0m\n\u001b[0m\u001b[1;32m    851\u001b[0m \u001b[0;34m\u001b[0m\u001b[0m\n",
      "\u001b[0;32m/opt/conda/lib/python3.6/site-packages/urllib3/connection.py\u001b[0m in \u001b[0;36mconnect\u001b[0;34m(self)\u001b[0m\n\u001b[1;32m    283\u001b[0m         \u001b[0;31m# Add certificate verification\u001b[0m\u001b[0;34m\u001b[0m\u001b[0;34m\u001b[0m\u001b[0m\n\u001b[0;32m--> 284\u001b[0;31m         \u001b[0mconn\u001b[0m \u001b[0;34m=\u001b[0m \u001b[0mself\u001b[0m\u001b[0;34m.\u001b[0m\u001b[0m_new_conn\u001b[0m\u001b[0;34m(\u001b[0m\u001b[0;34m)\u001b[0m\u001b[0;34m\u001b[0m\u001b[0m\n\u001b[0m\u001b[1;32m    285\u001b[0m \u001b[0;34m\u001b[0m\u001b[0m\n",
      "\u001b[0;32m/opt/conda/lib/python3.6/site-packages/urllib3/connection.py\u001b[0m in \u001b[0;36m_new_conn\u001b[0;34m(self)\u001b[0m\n\u001b[1;32m    149\u001b[0m             raise NewConnectionError(\n\u001b[0;32m--> 150\u001b[0;31m                 self, \"Failed to establish a new connection: %s\" % e)\n\u001b[0m\u001b[1;32m    151\u001b[0m \u001b[0;34m\u001b[0m\u001b[0m\n",
      "\u001b[0;31mNewConnectionError\u001b[0m: <urllib3.connection.VerifiedHTTPSConnection object at 0x7f4d0eedd0f0>: Failed to establish a new connection: [Errno -2] Name or service not known",
      "\nDuring handling of the above exception, another exception occurred:\n",
      "\u001b[0;31mMaxRetryError\u001b[0m                             Traceback (most recent call last)",
      "\u001b[0;32m/opt/conda/lib/python3.6/site-packages/requests/adapters.py\u001b[0m in \u001b[0;36msend\u001b[0;34m(self, request, stream, timeout, verify, cert, proxies)\u001b[0m\n\u001b[1;32m    439\u001b[0m                     \u001b[0mretries\u001b[0m\u001b[0;34m=\u001b[0m\u001b[0mself\u001b[0m\u001b[0;34m.\u001b[0m\u001b[0mmax_retries\u001b[0m\u001b[0;34m,\u001b[0m\u001b[0;34m\u001b[0m\u001b[0m\n\u001b[0;32m--> 440\u001b[0;31m                     \u001b[0mtimeout\u001b[0m\u001b[0;34m=\u001b[0m\u001b[0mtimeout\u001b[0m\u001b[0;34m\u001b[0m\u001b[0m\n\u001b[0m\u001b[1;32m    441\u001b[0m                 )\n",
      "\u001b[0;32m/opt/conda/lib/python3.6/site-packages/urllib3/connectionpool.py\u001b[0m in \u001b[0;36murlopen\u001b[0;34m(self, method, url, body, headers, retries, redirect, assert_same_host, timeout, pool_timeout, release_conn, chunked, body_pos, **response_kw)\u001b[0m\n\u001b[1;32m    638\u001b[0m             retries = retries.increment(method, url, error=e, _pool=self,\n\u001b[0;32m--> 639\u001b[0;31m                                         _stacktrace=sys.exc_info()[2])\n\u001b[0m\u001b[1;32m    640\u001b[0m             \u001b[0mretries\u001b[0m\u001b[0;34m.\u001b[0m\u001b[0msleep\u001b[0m\u001b[0;34m(\u001b[0m\u001b[0;34m)\u001b[0m\u001b[0;34m\u001b[0m\u001b[0m\n",
      "\u001b[0;32m/opt/conda/lib/python3.6/site-packages/urllib3/util/retry.py\u001b[0m in \u001b[0;36mincrement\u001b[0;34m(self, method, url, response, error, _pool, _stacktrace)\u001b[0m\n\u001b[1;32m    387\u001b[0m         \u001b[0;32mif\u001b[0m \u001b[0mnew_retry\u001b[0m\u001b[0;34m.\u001b[0m\u001b[0mis_exhausted\u001b[0m\u001b[0;34m(\u001b[0m\u001b[0;34m)\u001b[0m\u001b[0;34m:\u001b[0m\u001b[0;34m\u001b[0m\u001b[0m\n\u001b[0;32m--> 388\u001b[0;31m             \u001b[0;32mraise\u001b[0m \u001b[0mMaxRetryError\u001b[0m\u001b[0;34m(\u001b[0m\u001b[0m_pool\u001b[0m\u001b[0;34m,\u001b[0m \u001b[0murl\u001b[0m\u001b[0;34m,\u001b[0m \u001b[0merror\u001b[0m \u001b[0;32mor\u001b[0m \u001b[0mResponseError\u001b[0m\u001b[0;34m(\u001b[0m\u001b[0mcause\u001b[0m\u001b[0;34m)\u001b[0m\u001b[0;34m)\u001b[0m\u001b[0;34m\u001b[0m\u001b[0m\n\u001b[0m\u001b[1;32m    389\u001b[0m \u001b[0;34m\u001b[0m\u001b[0m\n",
      "\u001b[0;31mMaxRetryError\u001b[0m: HTTPSConnectionPool(host='prototype.api-sirene.insee.fr', port=443): Max retries exceeded with url: /ws/siren/?q=Denomination%3ANotaire (Caused by NewConnectionError('<urllib3.connection.VerifiedHTTPSConnection object at 0x7f4d0eedd0f0>: Failed to establish a new connection: [Errno -2] Name or service not known',))",
      "\nDuring handling of the above exception, another exception occurred:\n",
      "\u001b[0;31mConnectionError\u001b[0m                           Traceback (most recent call last)",
      "\u001b[0;32m<ipython-input-15-8dc1d5619846>\u001b[0m in \u001b[0;36m<module>\u001b[0;34m()\u001b[0m\n\u001b[1;32m      1\u001b[0m \u001b[0murl2\u001b[0m \u001b[0;34m=\u001b[0m \u001b[0;34m\"https://prototype.api-sirene.insee.fr/ws/siren/\"\u001b[0m\u001b[0;34m\u001b[0m\u001b[0m\n\u001b[0;32m----> 2\u001b[0;31m \u001b[0mbad_requete2\u001b[0m \u001b[0;34m=\u001b[0m \u001b[0mrequests\u001b[0m\u001b[0;34m.\u001b[0m\u001b[0mget\u001b[0m\u001b[0;34m(\u001b[0m\u001b[0murl2\u001b[0m \u001b[0;34m,\u001b[0m \u001b[0mparams\u001b[0m\u001b[0;34m=\u001b[0m\u001b[0mrequete_params\u001b[0m\u001b[0;34m)\u001b[0m\u001b[0;34m\u001b[0m\u001b[0m\n\u001b[0m\u001b[1;32m      3\u001b[0m \u001b[0mbad_requete2\u001b[0m\u001b[0;34m.\u001b[0m\u001b[0mraise_for_status\u001b[0m\u001b[0;34m(\u001b[0m\u001b[0;34m)\u001b[0m\u001b[0;34m\u001b[0m\u001b[0m\n",
      "\u001b[0;32m/opt/conda/lib/python3.6/site-packages/requests/api.py\u001b[0m in \u001b[0;36mget\u001b[0;34m(url, params, **kwargs)\u001b[0m\n\u001b[1;32m     70\u001b[0m \u001b[0;34m\u001b[0m\u001b[0m\n\u001b[1;32m     71\u001b[0m     \u001b[0mkwargs\u001b[0m\u001b[0;34m.\u001b[0m\u001b[0msetdefault\u001b[0m\u001b[0;34m(\u001b[0m\u001b[0;34m'allow_redirects'\u001b[0m\u001b[0;34m,\u001b[0m \u001b[0;32mTrue\u001b[0m\u001b[0;34m)\u001b[0m\u001b[0;34m\u001b[0m\u001b[0m\n\u001b[0;32m---> 72\u001b[0;31m     \u001b[0;32mreturn\u001b[0m \u001b[0mrequest\u001b[0m\u001b[0;34m(\u001b[0m\u001b[0;34m'get'\u001b[0m\u001b[0;34m,\u001b[0m \u001b[0murl\u001b[0m\u001b[0;34m,\u001b[0m \u001b[0mparams\u001b[0m\u001b[0;34m=\u001b[0m\u001b[0mparams\u001b[0m\u001b[0;34m,\u001b[0m \u001b[0;34m**\u001b[0m\u001b[0mkwargs\u001b[0m\u001b[0;34m)\u001b[0m\u001b[0;34m\u001b[0m\u001b[0m\n\u001b[0m\u001b[1;32m     73\u001b[0m \u001b[0;34m\u001b[0m\u001b[0m\n\u001b[1;32m     74\u001b[0m \u001b[0;34m\u001b[0m\u001b[0m\n",
      "\u001b[0;32m/opt/conda/lib/python3.6/site-packages/requests/api.py\u001b[0m in \u001b[0;36mrequest\u001b[0;34m(method, url, **kwargs)\u001b[0m\n\u001b[1;32m     56\u001b[0m     \u001b[0;31m# cases, and look like a memory leak in others.\u001b[0m\u001b[0;34m\u001b[0m\u001b[0;34m\u001b[0m\u001b[0m\n\u001b[1;32m     57\u001b[0m     \u001b[0;32mwith\u001b[0m \u001b[0msessions\u001b[0m\u001b[0;34m.\u001b[0m\u001b[0mSession\u001b[0m\u001b[0;34m(\u001b[0m\u001b[0;34m)\u001b[0m \u001b[0;32mas\u001b[0m \u001b[0msession\u001b[0m\u001b[0;34m:\u001b[0m\u001b[0;34m\u001b[0m\u001b[0m\n\u001b[0;32m---> 58\u001b[0;31m         \u001b[0;32mreturn\u001b[0m \u001b[0msession\u001b[0m\u001b[0;34m.\u001b[0m\u001b[0mrequest\u001b[0m\u001b[0;34m(\u001b[0m\u001b[0mmethod\u001b[0m\u001b[0;34m=\u001b[0m\u001b[0mmethod\u001b[0m\u001b[0;34m,\u001b[0m \u001b[0murl\u001b[0m\u001b[0;34m=\u001b[0m\u001b[0murl\u001b[0m\u001b[0;34m,\u001b[0m \u001b[0;34m**\u001b[0m\u001b[0mkwargs\u001b[0m\u001b[0;34m)\u001b[0m\u001b[0;34m\u001b[0m\u001b[0m\n\u001b[0m\u001b[1;32m     59\u001b[0m \u001b[0;34m\u001b[0m\u001b[0m\n\u001b[1;32m     60\u001b[0m \u001b[0;34m\u001b[0m\u001b[0m\n",
      "\u001b[0;32m/opt/conda/lib/python3.6/site-packages/requests/sessions.py\u001b[0m in \u001b[0;36mrequest\u001b[0;34m(self, method, url, params, data, headers, cookies, files, auth, timeout, allow_redirects, proxies, hooks, stream, verify, cert, json)\u001b[0m\n\u001b[1;32m    506\u001b[0m         }\n\u001b[1;32m    507\u001b[0m         \u001b[0msend_kwargs\u001b[0m\u001b[0;34m.\u001b[0m\u001b[0mupdate\u001b[0m\u001b[0;34m(\u001b[0m\u001b[0msettings\u001b[0m\u001b[0;34m)\u001b[0m\u001b[0;34m\u001b[0m\u001b[0m\n\u001b[0;32m--> 508\u001b[0;31m         \u001b[0mresp\u001b[0m \u001b[0;34m=\u001b[0m \u001b[0mself\u001b[0m\u001b[0;34m.\u001b[0m\u001b[0msend\u001b[0m\u001b[0;34m(\u001b[0m\u001b[0mprep\u001b[0m\u001b[0;34m,\u001b[0m \u001b[0;34m**\u001b[0m\u001b[0msend_kwargs\u001b[0m\u001b[0;34m)\u001b[0m\u001b[0;34m\u001b[0m\u001b[0m\n\u001b[0m\u001b[1;32m    509\u001b[0m \u001b[0;34m\u001b[0m\u001b[0m\n\u001b[1;32m    510\u001b[0m         \u001b[0;32mreturn\u001b[0m \u001b[0mresp\u001b[0m\u001b[0;34m\u001b[0m\u001b[0m\n",
      "\u001b[0;32m/opt/conda/lib/python3.6/site-packages/requests/sessions.py\u001b[0m in \u001b[0;36msend\u001b[0;34m(self, request, **kwargs)\u001b[0m\n\u001b[1;32m    616\u001b[0m \u001b[0;34m\u001b[0m\u001b[0m\n\u001b[1;32m    617\u001b[0m         \u001b[0;31m# Send the request\u001b[0m\u001b[0;34m\u001b[0m\u001b[0;34m\u001b[0m\u001b[0m\n\u001b[0;32m--> 618\u001b[0;31m         \u001b[0mr\u001b[0m \u001b[0;34m=\u001b[0m \u001b[0madapter\u001b[0m\u001b[0;34m.\u001b[0m\u001b[0msend\u001b[0m\u001b[0;34m(\u001b[0m\u001b[0mrequest\u001b[0m\u001b[0;34m,\u001b[0m \u001b[0;34m**\u001b[0m\u001b[0mkwargs\u001b[0m\u001b[0;34m)\u001b[0m\u001b[0;34m\u001b[0m\u001b[0m\n\u001b[0m\u001b[1;32m    619\u001b[0m \u001b[0;34m\u001b[0m\u001b[0m\n\u001b[1;32m    620\u001b[0m         \u001b[0;31m# Total elapsed time of the request (approximately)\u001b[0m\u001b[0;34m\u001b[0m\u001b[0;34m\u001b[0m\u001b[0m\n",
      "\u001b[0;32m/opt/conda/lib/python3.6/site-packages/requests/adapters.py\u001b[0m in \u001b[0;36msend\u001b[0;34m(self, request, stream, timeout, verify, cert, proxies)\u001b[0m\n\u001b[1;32m    506\u001b[0m                 \u001b[0;32mraise\u001b[0m \u001b[0mSSLError\u001b[0m\u001b[0;34m(\u001b[0m\u001b[0me\u001b[0m\u001b[0;34m,\u001b[0m \u001b[0mrequest\u001b[0m\u001b[0;34m=\u001b[0m\u001b[0mrequest\u001b[0m\u001b[0;34m)\u001b[0m\u001b[0;34m\u001b[0m\u001b[0m\n\u001b[1;32m    507\u001b[0m \u001b[0;34m\u001b[0m\u001b[0m\n\u001b[0;32m--> 508\u001b[0;31m             \u001b[0;32mraise\u001b[0m \u001b[0mConnectionError\u001b[0m\u001b[0;34m(\u001b[0m\u001b[0me\u001b[0m\u001b[0;34m,\u001b[0m \u001b[0mrequest\u001b[0m\u001b[0;34m=\u001b[0m\u001b[0mrequest\u001b[0m\u001b[0;34m)\u001b[0m\u001b[0;34m\u001b[0m\u001b[0m\n\u001b[0m\u001b[1;32m    509\u001b[0m \u001b[0;34m\u001b[0m\u001b[0m\n\u001b[1;32m    510\u001b[0m         \u001b[0;32mexcept\u001b[0m \u001b[0mClosedPoolError\u001b[0m \u001b[0;32mas\u001b[0m \u001b[0me\u001b[0m\u001b[0;34m:\u001b[0m\u001b[0;34m\u001b[0m\u001b[0m\n",
      "\u001b[0;31mConnectionError\u001b[0m: HTTPSConnectionPool(host='prototype.api-sirene.insee.fr', port=443): Max retries exceeded with url: /ws/siren/?q=Denomination%3ANotaire (Caused by NewConnectionError('<urllib3.connection.VerifiedHTTPSConnection object at 0x7f4d0eedd0f0>: Failed to establish a new connection: [Errno -2] Name or service not known',))"
     ]
    }
   ],
   "source": [
    "url2 = \"https://prototype.api-sirene.insee.fr/ws/siren/\"\n",
    "bad_requete2 = requests.get(url2 , params=requete_params)\n",
    "bad_requete2.raise_for_status()"
   ]
  },
  {
   "cell_type": "markdown",
   "metadata": {},
   "source": [
    "``Attention`` les paramètres attendus non pas tout à fait la même syntaxe..."
   ]
  },
  {
   "cell_type": "code",
   "execution_count": 18,
   "metadata": {},
   "outputs": [],
   "source": [
    "q2_param_value = 'periode(Denomination:Notaire)'\n",
    "requete2_params = {'q':q2_param_value}\n",
    "#requete2 = requests.get(url2 , params=requete2_params)\n",
    "requete2 = requests.get(url2 , proxies=insee_proxies,params=requete2_params)\n",
    "requete2.raise_for_status()"
   ]
  },
  {
   "cell_type": "markdown",
   "metadata": {},
   "source": [
    "Cette fois une clé Periodes renseigne sur les différents états des unités légales renvoyées."
   ]
  },
  {
   "cell_type": "markdown",
   "metadata": {},
   "source": [
    "Si on est joueur, il est également possible de requêter avec des critères plus complexes :   \n",
    "* Plusieurs termes pour une même variable :"
   ]
  },
  {
   "cell_type": "code",
   "execution_count": 30,
   "metadata": {},
   "outputs": [
    {
     "ename": "HTTPError",
     "evalue": "404 Client Error: Not Found for url: https://prototype.api-sirene.insee.fr/ws/siret/?q=Denomination%3ANotaire+AND+Denomination%3AB%C3%A9n%C3%A9vole",
     "output_type": "error",
     "traceback": [
      "\u001b[0;31m---------------------------------------------------------------------------\u001b[0m",
      "\u001b[0;31mHTTPError\u001b[0m                                 Traceback (most recent call last)",
      "\u001b[0;32m<ipython-input-30-9c1082e6ec02>\u001b[0m in \u001b[0;36m<module>\u001b[0;34m()\u001b[0m\n\u001b[1;32m      2\u001b[0m \u001b[0mrequete3_params\u001b[0m \u001b[0;34m=\u001b[0m \u001b[0;34m{\u001b[0m\u001b[0;34m'q'\u001b[0m\u001b[0;34m:\u001b[0m\u001b[0mq3_param_value\u001b[0m\u001b[0;34m}\u001b[0m\u001b[0;34m\u001b[0m\u001b[0m\n\u001b[1;32m      3\u001b[0m \u001b[0mrequete3\u001b[0m \u001b[0;34m=\u001b[0m \u001b[0mrequests\u001b[0m\u001b[0;34m.\u001b[0m\u001b[0mget\u001b[0m\u001b[0;34m(\u001b[0m\u001b[0murl\u001b[0m\u001b[0;34m,\u001b[0m \u001b[0mparams\u001b[0m\u001b[0;34m=\u001b[0m\u001b[0mrequete3_params\u001b[0m\u001b[0;34m,\u001b[0m \u001b[0mproxies\u001b[0m\u001b[0;34m=\u001b[0m\u001b[0minsee_proxies\u001b[0m\u001b[0;34m)\u001b[0m\u001b[0;34m\u001b[0m\u001b[0m\n\u001b[0;32m----> 4\u001b[0;31m \u001b[0mrequete3\u001b[0m\u001b[0;34m.\u001b[0m\u001b[0mraise_for_status\u001b[0m\u001b[0;34m(\u001b[0m\u001b[0;34m)\u001b[0m\u001b[0;34m\u001b[0m\u001b[0m\n\u001b[0m",
      "\u001b[0;32m/opt/conda/lib/python3.6/site-packages/requests/models.py\u001b[0m in \u001b[0;36mraise_for_status\u001b[0;34m(self)\u001b[0m\n\u001b[1;32m    933\u001b[0m \u001b[0;34m\u001b[0m\u001b[0m\n\u001b[1;32m    934\u001b[0m         \u001b[0;32mif\u001b[0m \u001b[0mhttp_error_msg\u001b[0m\u001b[0;34m:\u001b[0m\u001b[0;34m\u001b[0m\u001b[0m\n\u001b[0;32m--> 935\u001b[0;31m             \u001b[0;32mraise\u001b[0m \u001b[0mHTTPError\u001b[0m\u001b[0;34m(\u001b[0m\u001b[0mhttp_error_msg\u001b[0m\u001b[0;34m,\u001b[0m \u001b[0mresponse\u001b[0m\u001b[0;34m=\u001b[0m\u001b[0mself\u001b[0m\u001b[0;34m)\u001b[0m\u001b[0;34m\u001b[0m\u001b[0m\n\u001b[0m\u001b[1;32m    936\u001b[0m \u001b[0;34m\u001b[0m\u001b[0m\n\u001b[1;32m    937\u001b[0m     \u001b[0;32mdef\u001b[0m \u001b[0mclose\u001b[0m\u001b[0;34m(\u001b[0m\u001b[0mself\u001b[0m\u001b[0;34m)\u001b[0m\u001b[0;34m:\u001b[0m\u001b[0;34m\u001b[0m\u001b[0m\n",
      "\u001b[0;31mHTTPError\u001b[0m: 404 Client Error: Not Found for url: https://prototype.api-sirene.insee.fr/ws/siret/?q=Denomination%3ANotaire+AND+Denomination%3AB%C3%A9n%C3%A9vole"
     ]
    }
   ],
   "source": [
    "q3_param_value = 'Denomination:Notaire AND Denomination:Bénévole'\n",
    "requete3_params = {'q':q3_param_value}\n",
    "requete3 = requests.get(url, params=requete3_params, proxies=insee_proxies)\n",
    "requete3.raise_for_status()"
   ]
  },
  {
   "cell_type": "markdown",
   "metadata": {},
   "source": [
    "Erreur 404 ?? Mais pourquoi donc... Ah ben si, tout simplement, il n'existe pas de notaires bénévoles.  \n",
    "A retenir, on obtiendra une erreur 404 (signifiant \"Not Found\") quand notre requête ne renvoie aucun résultat, donc pas de panique si vous obtenez une 404, il n'y a juste aucun écho à votre requête."
   ]
  },
  {
   "cell_type": "markdown",
   "metadata": {},
   "source": [
    "Cherchons quelque chose de plus réaliste (et qui peut aussi servir, sait-on jamais...) :"
   ]
  },
  {
   "cell_type": "code",
   "execution_count": 35,
   "metadata": {},
   "outputs": [],
   "source": [
    "q4_param_value = 'Denomination:Notaire AND LibelleCommuneEtablissement:Marseille'\n",
    "requete4_params = {'q':q4_param_value}\n",
    "requete4 = requests.get(url, params=requete4_params, proxies=insee_proxies)\n",
    "requete4.raise_for_status()"
   ]
  },
  {
   "cell_type": "code",
   "execution_count": 36,
   "metadata": {},
   "outputs": [
    {
     "data": {
      "text/plain": [
       "'{\"Header\":{\"Statut\":200,\"Message\":\"ok\",\"Total\":7,\"Debut\":0,\"Nombre\":7},\"Etablissements\":[{\"Siren\":\"394675730\",\"Nic\":\"00011\",\"StatutDiffusionEtablissement\":\"O\",\"DateCreationEtablissement\":\"1994-03-10\",\"NombrePeriodes\":4,\"UniteLegale\":{\"StatutDiffusionUniteLegale\":\"O\",\"DateCreationUniteLegale\":\"1994-03-10\",\"Sigle\":null,\"Sexe\":null,\"NomUsage\":null,\"Prenom1\":null,\"Prenom2\":null,\"Prenom3\":null,\"Prenom4\":null,\"PrenomUsuel\":null,\"CaractereEmployeur\":\"O\",\"EtatAdministratif\":\"A\",\"Nom\":null,\"Denomination\":\"ALEXANDRE LAFAGE NOTAIRE ASSOCIE\",\"ActivitePrincipale\":\"69.10Z\",\"LibelleActivite\":\"Activités juridiques\",\"NomenclatureActivite\":\"NAFRev2\",\"CategorieJuridique\":\"6565\",\"CategorieProfessionnelle\":null,\"NICSiege\":\"00011\"},\"Adresse\":{\"ComplementAdresseEtablissement\":null,\"NumeroVoieEtablissement\":\"20\",\"IndiceRepetitionEtablissement\":null,\"TypeVoieEtablissement\":\"BD\",\"LibelleVoieEtablissement\":\"GAROUTTE\",\"CodePostalEtablissement\":\"13012\",\"LibelleCommuneEtablissement\":\"MARSEILLE\",\"LibelleCommuneEtrangerEtablissement\":null,\"DistributionSpecialeEtablissement\":null,\"CodeCommuneEtablissement\":\"13212\",\"CedexEtablissement\":null},\"Periodes\":[{\"DateFin\":null,\"DateDebut\":\"2008-01-01\",\"EtatAdministratifEtablissement\":\"A\",\"IndEtatAdministratifEtablissement\":false,\"ActivitePrincipaleEtablissement\":\"69.10Z\",\"LibelleActiviteEtablissement\":\"Activités juridiques\",\"NomenclatureActiviteEtablissement\":\"NAFRev2\",\"IndActivitePrincipaleEtablissement\":true,\"CaractereEmployeurEtablissement\":\"O\",\"IndCaractereEmployeurEtablissement\":false,\"Enseigne1\":null,\"Enseigne2\":null,\"Enseigne3\":null,\"IndEnseigneEtablissement\":false},{\"DateFin\":\"2007-12-31\",\"DateDebut\":\"2003-12-25\",\"EtatAdministratifEtablissement\":\"A\",\"IndEtatAdministratifEtablissement\":false,\"ActivitePrincipaleEtablissement\":\"74.1A\",\"LibelleActiviteEtablissement\":\"Activités juridiques\",\"NomenclatureActiviteEtablissement\":\"NAFRev1\",\"IndActivitePrincipaleEtablissement\":true,\"CaractereEmployeurEtablissement\":\"O\",\"IndCaractereEmployeurEtablissement\":false,\"Enseigne1\":null,\"Enseigne2\":null,\"Enseigne3\":null,\"IndEnseigneEtablissement\":false},{\"DateFin\":\"2003-12-24\",\"DateDebut\":\"1999-12-25\",\"EtatAdministratifEtablissement\":\"A\",\"IndEtatAdministratifEtablissement\":false,\"ActivitePrincipaleEtablissement\":null,\"LibelleActiviteEtablissement\":null,\"NomenclatureActiviteEtablissement\":null,\"IndActivitePrincipaleEtablissement\":false,\"CaractereEmployeurEtablissement\":\"O\",\"IndCaractereEmployeurEtablissement\":true,\"Enseigne1\":null,\"Enseigne2\":null,\"Enseigne3\":null,\"IndEnseigneEtablissement\":false},{\"DateFin\":\"1999-12-24\",\"DateDebut\":\"1994-03-10\",\"EtatAdministratifEtablissement\":\"A\",\"IndEtatAdministratifEtablissement\":true,\"ActivitePrincipaleEtablissement\":null,\"LibelleActiviteEtablissement\":null,\"NomenclatureActiviteEtablissement\":null,\"IndActivitePrincipaleEtablissement\":true,\"CaractereEmployeurEtablissement\":null,\"IndCaractereEmployeurEtablissement\":true,\"Enseigne1\":null,\"Enseigne2\":null,\"Enseigne3\":null,\"IndEnseigneEtablissement\":true}]},{\"Siren\":\"823797253\",\"Nic\":\"00015\",\"StatutDiffusionEtablissement\":\"O\",\"DateCreationEtablissement\":\"2016-11-17\",\"NombrePeriodes\":1,\"UniteLegale\":{\"StatutDiffusionUniteLegale\":\"O\",\"DateCreationUniteLegale\":\"2016-11-17\",\"Sigle\":null,\"Sexe\":null,\"NomUsage\":null,\"Prenom1\":null,\"Prenom2\":null,\"Prenom3\":null,\"Prenom4\":null,\"PrenomUsuel\":null,\"CaractereEmployeur\":\"N\",\"EtatAdministratif\":\"A\",\"Nom\":null,\"Denomination\":\"NICOLAS CHAURIS NOTAIRE\",\"ActivitePrincipale\":\"00.00Z\",\"LibelleActivite\":null,\"NomenclatureActivite\":\"NAFRev2\",\"CategorieJuridique\":\"5785\",\"CategorieProfessionnelle\":null,\"NICSiege\":\"00015\"},\"Adresse\":{\"ComplementAdresseEtablissement\":\"RESIDENCE CENTRAL PARK BAT.D\",\"NumeroVoieEtablissement\":\"9\",\"IndiceRepetitionEtablissement\":null,\"TypeVoieEtablissement\":\"RUE\",\"LibelleVoieEtablissement\":\"DE PROVENCE\",\"CodePostalEtablissement\":\"13004\",\"LibelleCommuneEtablissement\":\"MARSEILLE\",\"LibelleCommuneEtrangerEtablissement\":null,\"DistributionSpecialeEtablissement\":null,\"CodeCommuneEtablissement\":\"13204\",\"CedexEtablissement\":null},\"Periodes\":[{\"DateFin\":null,\"DateDebut\":\"2016-11-17\",\"EtatAdministratifEtablissement\":\"A\",\"IndEtatAdministratifEtablissement\":true,\"ActivitePrincipaleEtablissement\":\"70.10Z\",\"LibelleActiviteEtablissement\":\"Activités des sièges sociaux\",\"NomenclatureActiviteEtablissement\":\"NAFRev2\",\"IndActivitePrincipaleEtablissement\":true,\"CaractereEmployeurEtablissement\":\"N\",\"IndCaractereEmployeurEtablissement\":true,\"Enseigne1\":null,\"Enseigne2\":null,\"Enseigne3\":null,\"IndEnseigneEtablissement\":true}]},{\"Siren\":\"312153570\",\"Nic\":\"00014\",\"StatutDiffusionEtablissement\":\"O\",\"DateCreationEtablissement\":\"1978-01-01\",\"NombrePeriodes\":5,\"UniteLegale\":{\"StatutDiffusionUniteLegale\":\"O\",\"DateCreationUniteLegale\":\"1978-01-01\",\"Sigle\":null,\"Sexe\":null,\"NomUsage\":null,\"Prenom1\":null,\"Prenom2\":null,\"Prenom3\":null,\"Prenom4\":null,\"PrenomUsuel\":null,\"CaractereEmployeur\":\"O\",\"EtatAdministratif\":\"A\",\"Nom\":null,\"Denomination\":\"FABRICE GOUBARD, CHRISTOPHE GOUBARD, GISELE LAVEISSIERE NOTAIRE ASSOCIE D\\'UNE SOCIETE CIVILE PROFESSIONNELLE TITULAIR\",\"ActivitePrincipale\":\"69.10Z\",\"LibelleActivite\":\"Activités juridiques\",\"NomenclatureActivite\":\"NAFRev2\",\"CategorieJuridique\":\"6565\",\"CategorieProfessionnelle\":null,\"NICSiege\":\"00022\"},\"Adresse\":{\"ComplementAdresseEtablissement\":null,\"NumeroVoieEtablissement\":\"10\",\"IndiceRepetitionEtablissement\":null,\"TypeVoieEtablissement\":\"BD\",\"LibelleVoieEtablissement\":\"THEODORE THURNER\",\"CodePostalEtablissement\":\"13006\",\"LibelleCommuneEtablissement\":\"MARSEILLE\",\"LibelleCommuneEtrangerEtablissement\":null,\"DistributionSpecialeEtablissement\":null,\"CodeCommuneEtablissement\":\"13206\",\"CedexEtablissement\":null},\"Periodes\":[{\"DateFin\":null,\"DateDebut\":\"2010-02-23\",\"EtatAdministratifEtablissement\":\"F\",\"IndEtatAdministratifEtablissement\":true,\"ActivitePrincipaleEtablissement\":\"69.10Z\",\"LibelleActiviteEtablissement\":\"Activités juridiques\",\"NomenclatureActiviteEtablissement\":\"NAFRev2\",\"IndActivitePrincipaleEtablissement\":false,\"CaractereEmployeurEtablissement\":\"O\",\"IndCaractereEmployeurEtablissement\":false,\"Enseigne1\":null,\"Enseigne2\":null,\"Enseigne3\":null,\"IndEnseigneEtablissement\":false},{\"DateFin\":\"2010-02-22\",\"DateDebut\":\"2008-01-01\",\"EtatAdministratifEtablissement\":\"A\",\"IndEtatAdministratifEtablissement\":false,\"ActivitePrincipaleEtablissement\":\"69.10Z\",\"LibelleActiviteEtablissement\":\"Activités juridiques\",\"NomenclatureActiviteEtablissement\":\"NAFRev2\",\"IndActivitePrincipaleEtablissement\":true,\"CaractereEmployeurEtablissement\":\"O\",\"IndCaractereEmployeurEtablissement\":false,\"Enseigne1\":null,\"Enseigne2\":null,\"Enseigne3\":null,\"IndEnseigneEtablissement\":false},{\"DateFin\":\"2007-12-31\",\"DateDebut\":\"1997-12-25\",\"EtatAdministratifEtablissement\":\"A\",\"IndEtatAdministratifEtablissement\":false,\"ActivitePrincipaleEtablissement\":\"74.1A\",\"LibelleActiviteEtablissement\":\"Activités juridiques\",\"NomenclatureActiviteEtablissement\":\"NAF1993\",\"IndActivitePrincipaleEtablissement\":true,\"CaractereEmployeurEtablissement\":\"O\",\"IndCaractereEmployeurEtablissement\":false,\"Enseigne1\":null,\"Enseigne2\":null,\"Enseigne3\":null,\"IndEnseigneEtablissement\":false},{\"DateFin\":\"1997-12-24\",\"DateDebut\":\"1995-12-25\",\"EtatAdministratifEtablissement\":\"A\",\"IndEtatAdministratifEtablissement\":false,\"ActivitePrincipaleEtablissement\":null,\"LibelleActiviteEtablissement\":null,\"NomenclatureActiviteEtablissement\":null,\"IndActivitePrincipaleEtablissement\":false,\"CaractereEmployeurEtablissement\":\"O\",\"IndCaractereEmployeurEtablissement\":true,\"Enseigne1\":null,\"Enseigne2\":null,\"Enseigne3\":null,\"IndEnseigneEtablissement\":false},{\"DateFin\":\"1995-12-24\",\"DateDebut\":\"1978-01-01\",\"EtatAdministratifEtablissement\":\"A\",\"IndEtatAdministratifEtablissement\":true,\"ActivitePrincipaleEtablissement\":null,\"LibelleActiviteEtablissement\":null,\"NomenclatureActiviteEtablissement\":null,\"IndActivitePrincipaleEtablissement\":true,\"CaractereEmployeurEtablissement\":null,\"IndCaractereEmployeurEtablissement\":true,\"Enseigne1\":null,\"Enseigne2\":null,\"Enseigne3\":null,\"IndEnseigneEtablissement\":true}]},{\"Siren\":\"442733556\",\"Nic\":\"00017\",\"StatutDiffusionEtablissement\":\"O\",\"DateCreationEtablissement\":\"2001-09-03\",\"NombrePeriodes\":4,\"UniteLegale\":{\"StatutDiffusionUniteLegale\":\"O\",\"DateCreationUniteLegale\":\"2001-09-03\",\"Sigle\":null,\"Sexe\":null,\"NomUsage\":null,\"Prenom1\":null,\"Prenom2\":null,\"Prenom3\":null,\"Prenom4\":null,\"PrenomUsuel\":null,\"CaractereEmployeur\":\"O\",\"EtatAdministratif\":\"A\",\"Nom\":null,\"Denomination\":\"JACQUES MAUBE NOTAIRE ASSOCIE D\\'UNE SOCIETE CIVILE PROFESSIONNELLE TITULAIRE D\\'UN OFFICE NOTARIAL\",\"ActivitePrincipale\":\"69.10Z\",\"LibelleActivite\":\"Activités juridiques\",\"NomenclatureActivite\":\"NAFRev2\",\"CategorieJuridique\":\"6565\",\"CategorieProfessionnelle\":null,\"NICSiege\":\"00017\"},\"Adresse\":{\"ComplementAdresseEtablissement\":null,\"NumeroVoieEtablissement\":\"122\",\"IndiceRepetitionEtablissement\":null,\"TypeVoieEtablissement\":\"RUE\",\"LibelleVoieEtablissement\":\"PARADIS\",\"CodePostalEtablissement\":\"13006\",\"LibelleCommuneEtablissement\":\"MARSEILLE\",\"LibelleCommuneEtrangerEtablissement\":null,\"DistributionSpecialeEtablissement\":null,\"CodeCommuneEtablissement\":\"13206\",\"CedexEtablissement\":null},\"Periodes\":[{\"DateFin\":null,\"DateDebut\":\"2008-01-01\",\"EtatAdministratifEtablissement\":\"A\",\"IndEtatAdministratifEtablissement\":false,\"ActivitePrincipaleEtablissement\":\"69.10Z\",\"LibelleActiviteEtablissement\":\"Activités juridiques\",\"NomenclatureActiviteEtablissement\":\"NAFRev2\",\"IndActivitePrincipaleEtablissement\":true,\"CaractereEmployeurEtablissement\":\"O\",\"IndCaractereEmployeurEtablissement\":false,\"Enseigne1\":null,\"Enseigne2\":null,\"Enseigne3\":null,\"IndEnseigneEtablissement\":false},{\"DateFin\":\"2007-12-31\",\"DateDebut\":\"2004-12-25\",\"EtatAdministratifEtablissement\":\"A\",\"IndEtatAdministratifEtablissement\":false,\"ActivitePrincipaleEtablissement\":\"74.1A\",\"LibelleActiviteEtablissement\":\"Activités juridiques\",\"NomenclatureActiviteEtablissement\":\"NAFRev1\",\"IndActivitePrincipaleEtablissement\":true,\"CaractereEmployeurEtablissement\":\"O\",\"IndCaractereEmployeurEtablissement\":false,\"Enseigne1\":null,\"Enseigne2\":null,\"Enseigne3\":null,\"IndEnseigneEtablissement\":false},{\"DateFin\":\"2004-12-24\",\"DateDebut\":\"2002-12-25\",\"EtatAdministratifEtablissement\":\"A\",\"IndEtatAdministratifEtablissement\":false,\"ActivitePrincipaleEtablissement\":null,\"LibelleActiviteEtablissement\":null,\"NomenclatureActiviteEtablissement\":null,\"IndActivitePrincipaleEtablissement\":false,\"CaractereEmployeurEtablissement\":\"O\",\"IndCaractereEmployeurEtablissement\":true,\"Enseigne1\":null,\"Enseigne2\":null,\"Enseigne3\":null,\"IndEnseigneEtablissement\":false},{\"DateFin\":\"2002-12-24\",\"DateDebut\":\"2001-09-03\",\"EtatAdministratifEtablissement\":\"A\",\"IndEtatAdministratifEtablissement\":true,\"ActivitePrincipaleEtablissement\":null,\"LibelleActiviteEtablissement\":null,\"NomenclatureActiviteEtablissement\":null,\"IndActivitePrincipaleEtablissement\":true,\"CaractereEmployeurEtablissement\":null,\"IndCaractereEmployeurEtablissement\":true,\"Enseigne1\":null,\"Enseigne2\":null,\"Enseigne3\":null,\"IndEnseigneEtablissement\":true}]},{\"Siren\":\"313447385\",\"Nic\":\"00011\",\"StatutDiffusionEtablissement\":\"O\",\"DateCreationEtablissement\":\"1978-01-01\",\"NombrePeriodes\":4,\"UniteLegale\":{\"StatutDiffusionUniteLegale\":\"O\",\"DateCreationUniteLegale\":\"1978-01-01\",\"Sigle\":null,\"Sexe\":null,\"NomUsage\":null,\"Prenom1\":null,\"Prenom2\":null,\"Prenom3\":null,\"Prenom4\":null,\"PrenomUsuel\":null,\"CaractereEmployeur\":\"O\",\"EtatAdministratif\":\"A\",\"Nom\":null,\"Denomination\":\"ME PHILIPPE BLANC NOTAIRE ASSOCIE , ANCIENNEMENT MES JEAN SICARD ET ROBERT BLANC\",\"ActivitePrincipale\":\"69.10Z\",\"LibelleActivite\":\"Activités juridiques\",\"NomenclatureActivite\":\"NAFRev2\",\"CategorieJuridique\":\"5485\",\"CategorieProfessionnelle\":null,\"NICSiege\":\"00011\"},\"Adresse\":{\"ComplementAdresseEtablissement\":null,\"NumeroVoieEtablissement\":\"98\",\"IndiceRepetitionEtablissement\":null,\"TypeVoieEtablissement\":\"BD\",\"LibelleVoieEtablissement\":\"DE SAINTE MARGUERITE\",\"CodePostalEtablissement\":\"13009\",\"LibelleCommuneEtablissement\":\"MARSEILLE\",\"LibelleCommuneEtrangerEtablissement\":null,\"DistributionSpecialeEtablissement\":null,\"CodeCommuneEtablissement\":\"13209\",\"CedexEtablissement\":null},\"Periodes\":[{\"DateFin\":null,\"DateDebut\":\"2008-01-01\",\"EtatAdministratifEtablissement\":\"A\",\"IndEtatAdministratifEtablissement\":false,\"ActivitePrincipaleEtablissement\":\"69.10Z\",\"LibelleActiviteEtablissement\":\"Activités juridiques\",\"NomenclatureActiviteEtablissement\":\"NAFRev2\",\"IndActivitePrincipaleEtablissement\":true,\"CaractereEmployeurEtablissement\":\"O\",\"IndCaractereEmployeurEtablissement\":false,\"Enseigne1\":null,\"Enseigne2\":null,\"Enseigne3\":null,\"IndEnseigneEtablissement\":false},{\"DateFin\":\"2007-12-31\",\"DateDebut\":\"1996-12-25\",\"EtatAdministratifEtablissement\":\"A\",\"IndEtatAdministratifEtablissement\":false,\"ActivitePrincipaleEtablissement\":\"74.1A\",\"LibelleActiviteEtablissement\":\"Activités juridiques\",\"NomenclatureActiviteEtablissement\":\"NAF1993\",\"IndActivitePrincipaleEtablissement\":false,\"CaractereEmployeurEtablissement\":\"O\",\"IndCaractereEmployeurEtablissement\":true,\"Enseigne1\":null,\"Enseigne2\":null,\"Enseigne3\":null,\"IndEnseigneEtablissement\":false},{\"DateFin\":\"1996-12-24\",\"DateDebut\":\"1992-12-25\",\"EtatAdministratifEtablissement\":\"A\",\"IndEtatAdministratifEtablissement\":false,\"ActivitePrincipaleEtablissement\":\"74.1A\",\"LibelleActiviteEtablissement\":\"Activités juridiques\",\"NomenclatureActiviteEtablissement\":\"NAF1993\",\"IndActivitePrincipaleEtablissement\":true,\"CaractereEmployeurEtablissement\":null,\"IndCaractereEmployeurEtablissement\":false,\"Enseigne1\":null,\"Enseigne2\":null,\"Enseigne3\":null,\"IndEnseigneEtablissement\":false},{\"DateFin\":\"1992-12-24\",\"DateDebut\":\"1978-01-01\",\"EtatAdministratifEtablissement\":\"A\",\"IndEtatAdministratifEtablissement\":true,\"ActivitePrincipaleEtablissement\":null,\"LibelleActiviteEtablissement\":null,\"NomenclatureActiviteEtablissement\":null,\"IndActivitePrincipaleEtablissement\":true,\"CaractereEmployeurEtablissement\":null,\"IndCaractereEmployeurEtablissement\":true,\"Enseigne1\":null,\"Enseigne2\":null,\"Enseigne3\":null,\"IndEnseigneEtablissement\":true}]},{\"Siren\":\"822898490\",\"Nic\":\"00013\",\"StatutDiffusionEtablissement\":\"O\",\"DateCreationEtablissement\":\"2016-09-22\",\"NombrePeriodes\":2,\"UniteLegale\":{\"StatutDiffusionUniteLegale\":\"O\",\"DateCreationUniteLegale\":\"2016-09-22\",\"Sigle\":null,\"Sexe\":null,\"NomUsage\":null,\"Prenom1\":null,\"Prenom2\":null,\"Prenom3\":null,\"Prenom4\":null,\"PrenomUsuel\":null,\"CaractereEmployeur\":\"O\",\"EtatAdministratif\":\"A\",\"Nom\":null,\"Denomination\":\"LAURENT CIAVATTI NOTAIRE ASSOCIE TITULAIRE D\\'UN OFFICE NOTARIAL A MARSEILLE 13001 52 SAINT FERREOL\",\"ActivitePrincipale\":\"69.10Z\",\"LibelleActivite\":\"Activités juridiques\",\"NomenclatureActivite\":\"NAFRev2\",\"CategorieJuridique\":\"5485\",\"CategorieProfessionnelle\":null,\"NICSiege\":\"00013\"},\"Adresse\":{\"ComplementAdresseEtablissement\":null,\"NumeroVoieEtablissement\":\"52\",\"IndiceRepetitionEtablissement\":null,\"TypeVoieEtablissement\":\"RUE\",\"LibelleVoieEtablissement\":\"SAINT FERREOL\",\"CodePostalEtablissement\":\"13001\",\"LibelleCommuneEtablissement\":\"MARSEILLE\",\"LibelleCommuneEtrangerEtablissement\":null,\"DistributionSpecialeEtablissement\":null,\"CodeCommuneEtablissement\":\"13201\",\"CedexEtablissement\":null},\"Periodes\":[{\"DateFin\":null,\"DateDebut\":\"2017-03-08\",\"EtatAdministratifEtablissement\":\"A\",\"IndEtatAdministratifEtablissement\":false,\"ActivitePrincipaleEtablissement\":\"69.10Z\",\"LibelleActiviteEtablissement\":\"Activités juridiques\",\"NomenclatureActiviteEtablissement\":\"NAFRev2\",\"IndActivitePrincipaleEtablissement\":true,\"CaractereEmployeurEtablissement\":\"O\",\"IndCaractereEmployeurEtablissement\":true,\"Enseigne1\":null,\"Enseigne2\":null,\"Enseigne3\":null,\"IndEnseigneEtablissement\":false},{\"DateFin\":\"2017-03-07\",\"DateDebut\":\"2016-09-22\",\"EtatAdministratifEtablissement\":\"A\",\"IndEtatAdministratifEtablissement\":true,\"ActivitePrincipaleEtablissement\":\"70.10Z\",\"LibelleActiviteEtablissement\":\"Activités des sièges sociaux\",\"NomenclatureActiviteEtablissement\":\"NAFRev2\",\"IndActivitePrincipaleEtablissement\":true,\"CaractereEmployeurEtablissement\":\"N\",\"IndCaractereEmployeurEtablissement\":true,\"Enseigne1\":null,\"Enseigne2\":null,\"Enseigne3\":null,\"IndEnseigneEtablissement\":true}]},{\"Siren\":\"312153570\",\"Nic\":\"00022\",\"StatutDiffusionEtablissement\":\"O\",\"DateCreationEtablissement\":\"2010-02-23\",\"NombrePeriodes\":1,\"UniteLegale\":{\"StatutDiffusionUniteLegale\":\"O\",\"DateCreationUniteLegale\":\"1978-01-01\",\"Sigle\":null,\"Sexe\":null,\"NomUsage\":null,\"Prenom1\":null,\"Prenom2\":null,\"Prenom3\":null,\"Prenom4\":null,\"PrenomUsuel\":null,\"CaractereEmployeur\":\"O\",\"EtatAdministratif\":\"A\",\"Nom\":null,\"Denomination\":\"FABRICE GOUBARD, CHRISTOPHE GOUBARD, GISELE LAVEISSIERE NOTAIRE ASSOCIE D\\'UNE SOCIETE CIVILE PROFESSIONNELLE TITULAIR\",\"ActivitePrincipale\":\"69.10Z\",\"LibelleActivite\":\"Activités juridiques\",\"NomenclatureActivite\":\"NAFRev2\",\"CategorieJuridique\":\"6565\",\"CategorieProfessionnelle\":null,\"NICSiege\":\"00022\"},\"Adresse\":{\"ComplementAdresseEtablissement\":null,\"NumeroVoieEtablissement\":\"114\",\"IndiceRepetitionEtablissement\":null,\"TypeVoieEtablissement\":\"CRS\",\"LibelleVoieEtablissement\":\"LIEUTAUD\",\"CodePostalEtablissement\":\"13006\",\"LibelleCommuneEtablissement\":\"MARSEILLE\",\"LibelleCommuneEtrangerEtablissement\":null,\"DistributionSpecialeEtablissement\":null,\"CodeCommuneEtablissement\":\"13206\",\"CedexEtablissement\":null},\"Periodes\":[{\"DateFin\":null,\"DateDebut\":\"2010-02-23\",\"EtatAdministratifEtablissement\":\"A\",\"IndEtatAdministratifEtablissement\":true,\"ActivitePrincipaleEtablissement\":\"69.10Z\",\"LibelleActiviteEtablissement\":\"Activités juridiques\",\"NomenclatureActiviteEtablissement\":\"NAFRev2\",\"IndActivitePrincipaleEtablissement\":true,\"CaractereEmployeurEtablissement\":\"O\",\"IndCaractereEmployeurEtablissement\":true,\"Enseigne1\":null,\"Enseigne2\":null,\"Enseigne3\":null,\"IndEnseigneEtablissement\":true}]}]}'"
      ]
     },
     "execution_count": 36,
     "metadata": {},
     "output_type": "execute_result"
    }
   ],
   "source": [
    "requete4.text"
   ]
  },
  {
   "cell_type": "markdown",
   "metadata": {},
   "source": [
    "* Plusieurs critères dont un en exclusion :"
   ]
  },
  {
   "cell_type": "markdown",
   "metadata": {},
   "source": [
    "A l'inverse, des afficionados du PSG peuvent être prêts à tout acheter, sauf à Marseille... Avec API SIRENE, c'est possible !"
   ]
  },
  {
   "cell_type": "code",
   "execution_count": 37,
   "metadata": {},
   "outputs": [],
   "source": [
    "q5_param_value = 'Denomination:Notaire AND -LibelleCommuneEtablissement:Marseille'\n",
    "requete5_params = {'q':q4_param_value}\n",
    "requete5 = requests.get(url, params=requete5_params, proxies=insee_proxies)\n",
    "requete5.raise_for_status()"
   ]
  },
  {
   "cell_type": "markdown",
   "metadata": {},
   "source": [
    "A noter le signe '-' devant le nom de variable.  \n",
    "Il est possible d'utiliser également l'opérateur 'OR' de la même manière, attention aux règles de préséance des opérateurs, ne pas hésiter à user de parenthèses pour lever toute ambiguëté."
   ]
  },
  {
   "cell_type": "markdown",
   "metadata": {},
   "source": [
    "* Un raccourci pour la route :  \n",
    "    Il est possible d'utiliser le signe '-' pour l'opérateur 'OR' portant sur deux termes de recherche pour une même variable."
   ]
  },
  {
   "cell_type": "code",
   "execution_count": 38,
   "metadata": {},
   "outputs": [],
   "source": [
    "q5_param_value = 'Denomination:Notaire-Bénévole'\n",
    "requete5_params = {'q':q4_param_value}\n",
    "requete5 = requests.get(url, params=requete5_params, proxies=insee_proxies)\n",
    "requete5.raise_for_status()"
   ]
  },
  {
   "cell_type": "markdown",
   "metadata": {},
   "source": [
    "Bon là on a pas d'erreur 404, puisqu'on récupère les notaires et les bénévoles (deux ensembles que l'on sait parfaitement disjoints)"
   ]
  },
  {
   "cell_type": "code",
   "execution_count": null,
   "metadata": {},
   "outputs": [],
   "source": []
  }
 ],
 "metadata": {
  "kernelspec": {
   "display_name": "Python 3",
   "language": "python",
   "name": "python3"
  },
  "language_info": {
   "codemirror_mode": {
    "name": "ipython",
    "version": 3
   },
   "file_extension": ".py",
   "mimetype": "text/x-python",
   "name": "python",
   "nbconvert_exporter": "python",
   "pygments_lexer": "ipython3",
   "version": "3.6.2"
  }
 },
 "nbformat": 4,
 "nbformat_minor": 2
}
